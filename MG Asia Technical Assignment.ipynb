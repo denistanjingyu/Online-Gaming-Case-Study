{
  "nbformat": 4,
  "nbformat_minor": 0,
  "metadata": {
    "colab": {
      "name": "MG Asia Technical Assignment.ipynb",
      "provenance": [],
      "collapsed_sections": [],
      "toc_visible": true
    },
    "kernelspec": {
      "name": "python3",
      "display_name": "Python 3"
    },
    "language_info": {
      "name": "python"
    },
    "accelerator": "GPU"
  },
  "cells": [
    {
      "cell_type": "markdown",
      "source": [
        "# **Task**\n",
        "\n",
        "**What kind of experiences/triggers leads to an increased likelihood of a session ending?**"
      ],
      "metadata": {
        "id": "6T8z-CeBM6PG"
      }
    },
    {
      "cell_type": "markdown",
      "source": [
        "# **Analysis Workflow**\n",
        "**1. Data Loading and Cleaning**\n",
        "\n",
        "**2. Exploratory Data Analysis and Feature Engineering**\n",
        "\n",
        "**3. Explanatory Modeling (Why is this the last bet?)**\n",
        "\n",
        "**4. Predictive Modeling (Will this be the last bet?)**"
      ],
      "metadata": {
        "id": "uTw1gYxneAQJ"
      }
    },
    {
      "cell_type": "markdown",
      "source": [
        "# **Data loading and cleaning**"
      ],
      "metadata": {
        "id": "A5BRKJnF6FYJ"
      }
    },
    {
      "cell_type": "markdown",
      "source": [
        "Import libraries"
      ],
      "metadata": {
        "id": "benUdYl9NPCr"
      }
    },
    {
      "cell_type": "code",
      "execution_count": null,
      "metadata": {
        "id": "TFIPYHZMM2M0"
      },
      "outputs": [],
      "source": [
        "import pandas as pd\n",
        "import numpy as np\n",
        "import matplotlib.pyplot as plt\n",
        "import seaborn as sns\n",
        "import scipy\n",
        "import math\n",
        "import warnings\n",
        "from scipy import stats\n",
        "warnings.filterwarnings('ignore')"
      ]
    },
    {
      "cell_type": "markdown",
      "source": [
        "Load and examine data"
      ],
      "metadata": {
        "id": "Lo5JNpR6VYzk"
      }
    },
    {
      "cell_type": "code",
      "source": [
        "betdata = pd.read_csv('BetData_ForCandidates.csv')"
      ],
      "metadata": {
        "id": "fu0avnsnM615"
      },
      "execution_count": null,
      "outputs": []
    },
    {
      "cell_type": "code",
      "source": [
        "betdata.head()"
      ],
      "metadata": {
        "colab": {
          "base_uri": "https://localhost:8080/",
          "height": 206
        },
        "id": "uceD3cqmM66x",
        "outputId": "e95e3a90-29c9-49cd-9e47-08b22a9a54a8"
      },
      "execution_count": null,
      "outputs": [
        {
          "output_type": "execute_result",
          "data": {
            "text/plain": [
              "               gameutctime  betWager  betPayout  sessionBalance  \\\n",
              "0  2020-05-21 13:13:36.470      2.25        0.0          309.97   \n",
              "1  2020-05-21 13:13:37.860      2.25        0.0          307.72   \n",
              "2  2020-05-21 13:13:39.750      2.25        0.0          305.47   \n",
              "3  2020-05-21 13:13:41.567      2.25        0.0          303.22   \n",
              "4  2020-05-21 13:13:43.810      2.25        0.0          300.97   \n",
              "\n",
              "   userid_masked  sessionid_masked  \n",
              "0           5340         846050959  \n",
              "1           5340         846050959  \n",
              "2           5340         846050959  \n",
              "3           5340         846050959  \n",
              "4           5340         846050959  "
            ],
            "text/html": [
              "\n",
              "  <div id=\"df-3bcc92c4-350d-4977-b28c-3e50b84b86a0\">\n",
              "    <div class=\"colab-df-container\">\n",
              "      <div>\n",
              "<style scoped>\n",
              "    .dataframe tbody tr th:only-of-type {\n",
              "        vertical-align: middle;\n",
              "    }\n",
              "\n",
              "    .dataframe tbody tr th {\n",
              "        vertical-align: top;\n",
              "    }\n",
              "\n",
              "    .dataframe thead th {\n",
              "        text-align: right;\n",
              "    }\n",
              "</style>\n",
              "<table border=\"1\" class=\"dataframe\">\n",
              "  <thead>\n",
              "    <tr style=\"text-align: right;\">\n",
              "      <th></th>\n",
              "      <th>gameutctime</th>\n",
              "      <th>betWager</th>\n",
              "      <th>betPayout</th>\n",
              "      <th>sessionBalance</th>\n",
              "      <th>userid_masked</th>\n",
              "      <th>sessionid_masked</th>\n",
              "    </tr>\n",
              "  </thead>\n",
              "  <tbody>\n",
              "    <tr>\n",
              "      <th>0</th>\n",
              "      <td>2020-05-21 13:13:36.470</td>\n",
              "      <td>2.25</td>\n",
              "      <td>0.0</td>\n",
              "      <td>309.97</td>\n",
              "      <td>5340</td>\n",
              "      <td>846050959</td>\n",
              "    </tr>\n",
              "    <tr>\n",
              "      <th>1</th>\n",
              "      <td>2020-05-21 13:13:37.860</td>\n",
              "      <td>2.25</td>\n",
              "      <td>0.0</td>\n",
              "      <td>307.72</td>\n",
              "      <td>5340</td>\n",
              "      <td>846050959</td>\n",
              "    </tr>\n",
              "    <tr>\n",
              "      <th>2</th>\n",
              "      <td>2020-05-21 13:13:39.750</td>\n",
              "      <td>2.25</td>\n",
              "      <td>0.0</td>\n",
              "      <td>305.47</td>\n",
              "      <td>5340</td>\n",
              "      <td>846050959</td>\n",
              "    </tr>\n",
              "    <tr>\n",
              "      <th>3</th>\n",
              "      <td>2020-05-21 13:13:41.567</td>\n",
              "      <td>2.25</td>\n",
              "      <td>0.0</td>\n",
              "      <td>303.22</td>\n",
              "      <td>5340</td>\n",
              "      <td>846050959</td>\n",
              "    </tr>\n",
              "    <tr>\n",
              "      <th>4</th>\n",
              "      <td>2020-05-21 13:13:43.810</td>\n",
              "      <td>2.25</td>\n",
              "      <td>0.0</td>\n",
              "      <td>300.97</td>\n",
              "      <td>5340</td>\n",
              "      <td>846050959</td>\n",
              "    </tr>\n",
              "  </tbody>\n",
              "</table>\n",
              "</div>\n",
              "      <button class=\"colab-df-convert\" onclick=\"convertToInteractive('df-3bcc92c4-350d-4977-b28c-3e50b84b86a0')\"\n",
              "              title=\"Convert this dataframe to an interactive table.\"\n",
              "              style=\"display:none;\">\n",
              "        \n",
              "  <svg xmlns=\"http://www.w3.org/2000/svg\" height=\"24px\"viewBox=\"0 0 24 24\"\n",
              "       width=\"24px\">\n",
              "    <path d=\"M0 0h24v24H0V0z\" fill=\"none\"/>\n",
              "    <path d=\"M18.56 5.44l.94 2.06.94-2.06 2.06-.94-2.06-.94-.94-2.06-.94 2.06-2.06.94zm-11 1L8.5 8.5l.94-2.06 2.06-.94-2.06-.94L8.5 2.5l-.94 2.06-2.06.94zm10 10l.94 2.06.94-2.06 2.06-.94-2.06-.94-.94-2.06-.94 2.06-2.06.94z\"/><path d=\"M17.41 7.96l-1.37-1.37c-.4-.4-.92-.59-1.43-.59-.52 0-1.04.2-1.43.59L10.3 9.45l-7.72 7.72c-.78.78-.78 2.05 0 2.83L4 21.41c.39.39.9.59 1.41.59.51 0 1.02-.2 1.41-.59l7.78-7.78 2.81-2.81c.8-.78.8-2.07 0-2.86zM5.41 20L4 18.59l7.72-7.72 1.47 1.35L5.41 20z\"/>\n",
              "  </svg>\n",
              "      </button>\n",
              "      \n",
              "  <style>\n",
              "    .colab-df-container {\n",
              "      display:flex;\n",
              "      flex-wrap:wrap;\n",
              "      gap: 12px;\n",
              "    }\n",
              "\n",
              "    .colab-df-convert {\n",
              "      background-color: #E8F0FE;\n",
              "      border: none;\n",
              "      border-radius: 50%;\n",
              "      cursor: pointer;\n",
              "      display: none;\n",
              "      fill: #1967D2;\n",
              "      height: 32px;\n",
              "      padding: 0 0 0 0;\n",
              "      width: 32px;\n",
              "    }\n",
              "\n",
              "    .colab-df-convert:hover {\n",
              "      background-color: #E2EBFA;\n",
              "      box-shadow: 0px 1px 2px rgba(60, 64, 67, 0.3), 0px 1px 3px 1px rgba(60, 64, 67, 0.15);\n",
              "      fill: #174EA6;\n",
              "    }\n",
              "\n",
              "    [theme=dark] .colab-df-convert {\n",
              "      background-color: #3B4455;\n",
              "      fill: #D2E3FC;\n",
              "    }\n",
              "\n",
              "    [theme=dark] .colab-df-convert:hover {\n",
              "      background-color: #434B5C;\n",
              "      box-shadow: 0px 1px 3px 1px rgba(0, 0, 0, 0.15);\n",
              "      filter: drop-shadow(0px 1px 2px rgba(0, 0, 0, 0.3));\n",
              "      fill: #FFFFFF;\n",
              "    }\n",
              "  </style>\n",
              "\n",
              "      <script>\n",
              "        const buttonEl =\n",
              "          document.querySelector('#df-3bcc92c4-350d-4977-b28c-3e50b84b86a0 button.colab-df-convert');\n",
              "        buttonEl.style.display =\n",
              "          google.colab.kernel.accessAllowed ? 'block' : 'none';\n",
              "\n",
              "        async function convertToInteractive(key) {\n",
              "          const element = document.querySelector('#df-3bcc92c4-350d-4977-b28c-3e50b84b86a0');\n",
              "          const dataTable =\n",
              "            await google.colab.kernel.invokeFunction('convertToInteractive',\n",
              "                                                     [key], {});\n",
              "          if (!dataTable) return;\n",
              "\n",
              "          const docLinkHtml = 'Like what you see? Visit the ' +\n",
              "            '<a target=\"_blank\" href=https://colab.research.google.com/notebooks/data_table.ipynb>data table notebook</a>'\n",
              "            + ' to learn more about interactive tables.';\n",
              "          element.innerHTML = '';\n",
              "          dataTable['output_type'] = 'display_data';\n",
              "          await google.colab.output.renderOutput(dataTable, element);\n",
              "          const docLink = document.createElement('div');\n",
              "          docLink.innerHTML = docLinkHtml;\n",
              "          element.appendChild(docLink);\n",
              "        }\n",
              "      </script>\n",
              "    </div>\n",
              "  </div>\n",
              "  "
            ]
          },
          "metadata": {},
          "execution_count": 3
        }
      ]
    },
    {
      "cell_type": "markdown",
      "source": [
        "Check data dimensions and data types\n",
        "- Low dimensional raw dataset with lots of rows (unique bets)\n",
        "- gameutctime can be converted to datetime format later"
      ],
      "metadata": {
        "id": "AM6adriSVcKR"
      }
    },
    {
      "cell_type": "code",
      "source": [
        "print(\"Number of rows: {}\\nNumber of columns: {}\".format(betdata.shape[0], betdata.shape[1]))"
      ],
      "metadata": {
        "colab": {
          "base_uri": "https://localhost:8080/"
        },
        "id": "MhIq2mjZM69I",
        "outputId": "30c23844-a3e3-4252-d198-9345e5ac473c"
      },
      "execution_count": null,
      "outputs": [
        {
          "output_type": "stream",
          "name": "stdout",
          "text": [
            "Number of rows: 2487382\n",
            "Number of columns: 6\n"
          ]
        }
      ]
    },
    {
      "cell_type": "code",
      "source": [
        "betdata.dtypes"
      ],
      "metadata": {
        "colab": {
          "base_uri": "https://localhost:8080/"
        },
        "id": "UcAIfAJvWPQ6",
        "outputId": "aace4310-69d9-44fe-9a06-ca3272df5861"
      },
      "execution_count": null,
      "outputs": [
        {
          "output_type": "execute_result",
          "data": {
            "text/plain": [
              "gameutctime          object\n",
              "betWager            float64\n",
              "betPayout           float64\n",
              "sessionBalance      float64\n",
              "userid_masked         int64\n",
              "sessionid_masked      int64\n",
              "dtype: object"
            ]
          },
          "metadata": {},
          "execution_count": 5
        }
      ]
    },
    {
      "cell_type": "markdown",
      "source": [
        "**Data Dictionary**\n",
        "\n",
        "---\n",
        "\n",
        "**gameutctime:** Timestamp of when the bet occurred\n",
        "\n",
        "**betWager:** Amount of money that the player puts up for the bet\n",
        "\n",
        "**betPayout:** Amount of money that the player receives from the bet (this will be 0 in most cases because most bets do not pay out) (if betPayout < betWager he has effectively lost money on that bet and vice versa)\n",
        "\n",
        "**sessionBalance:** Amount of money that the player sees in his account after the betWager and betPayout amounts have been logged in the system (the session balances from bet to bet don’t always reconcile on wagers and payouts alone because sometimes the player can debit/credit funds from/into his account)\n",
        "\n",
        "**userid_masked:** unique identifier of a player\n",
        "\n",
        "**sessionid_masked:** unique identifier of a session (the last bet in each session is the ‘session-ending’ bet)\n",
        "\n",
        "---"
      ],
      "metadata": {
        "id": "Oe4NquLpVr_p"
      }
    },
    {
      "cell_type": "markdown",
      "source": [
        "Check for missing values and duplicate rows\n",
        "- No missing values\n",
        "- No duplicated rows (gameutctime + sessionid_masked should keep all rows unique)"
      ],
      "metadata": {
        "id": "Hj1885lrWulB"
      }
    },
    {
      "cell_type": "code",
      "source": [
        "betdata.isna().sum()"
      ],
      "metadata": {
        "colab": {
          "base_uri": "https://localhost:8080/"
        },
        "id": "PqqSS-R1M6_k",
        "outputId": "1c2046db-ad59-4a1e-a8b4-78262ba683c6"
      },
      "execution_count": null,
      "outputs": [
        {
          "output_type": "execute_result",
          "data": {
            "text/plain": [
              "gameutctime         0\n",
              "betWager            0\n",
              "betPayout           0\n",
              "sessionBalance      0\n",
              "userid_masked       0\n",
              "sessionid_masked    0\n",
              "dtype: int64"
            ]
          },
          "metadata": {},
          "execution_count": 6
        }
      ]
    },
    {
      "cell_type": "code",
      "source": [
        "betdata[betdata.duplicated() == True]"
      ],
      "metadata": {
        "colab": {
          "base_uri": "https://localhost:8080/",
          "height": 50
        },
        "id": "1Q_7XZjoM7CI",
        "outputId": "37ed1905-a0b5-4bde-a0df-b19ae93de1d9"
      },
      "execution_count": null,
      "outputs": [
        {
          "output_type": "execute_result",
          "data": {
            "text/plain": [
              "Empty DataFrame\n",
              "Columns: [gameutctime, betWager, betPayout, sessionBalance, userid_masked, sessionid_masked]\n",
              "Index: []"
            ],
            "text/html": [
              "\n",
              "  <div id=\"df-68974a9f-b83f-4212-b489-30e864775c98\">\n",
              "    <div class=\"colab-df-container\">\n",
              "      <div>\n",
              "<style scoped>\n",
              "    .dataframe tbody tr th:only-of-type {\n",
              "        vertical-align: middle;\n",
              "    }\n",
              "\n",
              "    .dataframe tbody tr th {\n",
              "        vertical-align: top;\n",
              "    }\n",
              "\n",
              "    .dataframe thead th {\n",
              "        text-align: right;\n",
              "    }\n",
              "</style>\n",
              "<table border=\"1\" class=\"dataframe\">\n",
              "  <thead>\n",
              "    <tr style=\"text-align: right;\">\n",
              "      <th></th>\n",
              "      <th>gameutctime</th>\n",
              "      <th>betWager</th>\n",
              "      <th>betPayout</th>\n",
              "      <th>sessionBalance</th>\n",
              "      <th>userid_masked</th>\n",
              "      <th>sessionid_masked</th>\n",
              "    </tr>\n",
              "  </thead>\n",
              "  <tbody>\n",
              "  </tbody>\n",
              "</table>\n",
              "</div>\n",
              "      <button class=\"colab-df-convert\" onclick=\"convertToInteractive('df-68974a9f-b83f-4212-b489-30e864775c98')\"\n",
              "              title=\"Convert this dataframe to an interactive table.\"\n",
              "              style=\"display:none;\">\n",
              "        \n",
              "  <svg xmlns=\"http://www.w3.org/2000/svg\" height=\"24px\"viewBox=\"0 0 24 24\"\n",
              "       width=\"24px\">\n",
              "    <path d=\"M0 0h24v24H0V0z\" fill=\"none\"/>\n",
              "    <path d=\"M18.56 5.44l.94 2.06.94-2.06 2.06-.94-2.06-.94-.94-2.06-.94 2.06-2.06.94zm-11 1L8.5 8.5l.94-2.06 2.06-.94-2.06-.94L8.5 2.5l-.94 2.06-2.06.94zm10 10l.94 2.06.94-2.06 2.06-.94-2.06-.94-.94-2.06-.94 2.06-2.06.94z\"/><path d=\"M17.41 7.96l-1.37-1.37c-.4-.4-.92-.59-1.43-.59-.52 0-1.04.2-1.43.59L10.3 9.45l-7.72 7.72c-.78.78-.78 2.05 0 2.83L4 21.41c.39.39.9.59 1.41.59.51 0 1.02-.2 1.41-.59l7.78-7.78 2.81-2.81c.8-.78.8-2.07 0-2.86zM5.41 20L4 18.59l7.72-7.72 1.47 1.35L5.41 20z\"/>\n",
              "  </svg>\n",
              "      </button>\n",
              "      \n",
              "  <style>\n",
              "    .colab-df-container {\n",
              "      display:flex;\n",
              "      flex-wrap:wrap;\n",
              "      gap: 12px;\n",
              "    }\n",
              "\n",
              "    .colab-df-convert {\n",
              "      background-color: #E8F0FE;\n",
              "      border: none;\n",
              "      border-radius: 50%;\n",
              "      cursor: pointer;\n",
              "      display: none;\n",
              "      fill: #1967D2;\n",
              "      height: 32px;\n",
              "      padding: 0 0 0 0;\n",
              "      width: 32px;\n",
              "    }\n",
              "\n",
              "    .colab-df-convert:hover {\n",
              "      background-color: #E2EBFA;\n",
              "      box-shadow: 0px 1px 2px rgba(60, 64, 67, 0.3), 0px 1px 3px 1px rgba(60, 64, 67, 0.15);\n",
              "      fill: #174EA6;\n",
              "    }\n",
              "\n",
              "    [theme=dark] .colab-df-convert {\n",
              "      background-color: #3B4455;\n",
              "      fill: #D2E3FC;\n",
              "    }\n",
              "\n",
              "    [theme=dark] .colab-df-convert:hover {\n",
              "      background-color: #434B5C;\n",
              "      box-shadow: 0px 1px 3px 1px rgba(0, 0, 0, 0.15);\n",
              "      filter: drop-shadow(0px 1px 2px rgba(0, 0, 0, 0.3));\n",
              "      fill: #FFFFFF;\n",
              "    }\n",
              "  </style>\n",
              "\n",
              "      <script>\n",
              "        const buttonEl =\n",
              "          document.querySelector('#df-68974a9f-b83f-4212-b489-30e864775c98 button.colab-df-convert');\n",
              "        buttonEl.style.display =\n",
              "          google.colab.kernel.accessAllowed ? 'block' : 'none';\n",
              "\n",
              "        async function convertToInteractive(key) {\n",
              "          const element = document.querySelector('#df-68974a9f-b83f-4212-b489-30e864775c98');\n",
              "          const dataTable =\n",
              "            await google.colab.kernel.invokeFunction('convertToInteractive',\n",
              "                                                     [key], {});\n",
              "          if (!dataTable) return;\n",
              "\n",
              "          const docLinkHtml = 'Like what you see? Visit the ' +\n",
              "            '<a target=\"_blank\" href=https://colab.research.google.com/notebooks/data_table.ipynb>data table notebook</a>'\n",
              "            + ' to learn more about interactive tables.';\n",
              "          element.innerHTML = '';\n",
              "          dataTable['output_type'] = 'display_data';\n",
              "          await google.colab.output.renderOutput(dataTable, element);\n",
              "          const docLink = document.createElement('div');\n",
              "          docLink.innerHTML = docLinkHtml;\n",
              "          element.appendChild(docLink);\n",
              "        }\n",
              "      </script>\n",
              "    </div>\n",
              "  </div>\n",
              "  "
            ]
          },
          "metadata": {},
          "execution_count": 7
        }
      ]
    },
    {
      "cell_type": "markdown",
      "source": [
        "Data validity check\n",
        "- No negative bet wager\n",
        "- No negative bet payout\n",
        "- No negative session balance"
      ],
      "metadata": {
        "id": "q4w7rfRvlFeV"
      }
    },
    {
      "cell_type": "code",
      "source": [
        "betdata[(betdata['betWager'] < 0) | (betdata['betPayout'] < 0) | (betdata['sessionBalance'] < 0)]"
      ],
      "metadata": {
        "colab": {
          "base_uri": "https://localhost:8080/",
          "height": 50
        },
        "id": "icGWWgKKjHKM",
        "outputId": "67880a4c-72a1-4031-9000-65d200f3b91a"
      },
      "execution_count": null,
      "outputs": [
        {
          "output_type": "execute_result",
          "data": {
            "text/plain": [
              "Empty DataFrame\n",
              "Columns: [gameutctime, betWager, betPayout, sessionBalance, userid_masked, sessionid_masked]\n",
              "Index: []"
            ],
            "text/html": [
              "\n",
              "  <div id=\"df-15fd839a-a0d1-4fa1-80ec-6e426b96bd18\">\n",
              "    <div class=\"colab-df-container\">\n",
              "      <div>\n",
              "<style scoped>\n",
              "    .dataframe tbody tr th:only-of-type {\n",
              "        vertical-align: middle;\n",
              "    }\n",
              "\n",
              "    .dataframe tbody tr th {\n",
              "        vertical-align: top;\n",
              "    }\n",
              "\n",
              "    .dataframe thead th {\n",
              "        text-align: right;\n",
              "    }\n",
              "</style>\n",
              "<table border=\"1\" class=\"dataframe\">\n",
              "  <thead>\n",
              "    <tr style=\"text-align: right;\">\n",
              "      <th></th>\n",
              "      <th>gameutctime</th>\n",
              "      <th>betWager</th>\n",
              "      <th>betPayout</th>\n",
              "      <th>sessionBalance</th>\n",
              "      <th>userid_masked</th>\n",
              "      <th>sessionid_masked</th>\n",
              "    </tr>\n",
              "  </thead>\n",
              "  <tbody>\n",
              "  </tbody>\n",
              "</table>\n",
              "</div>\n",
              "      <button class=\"colab-df-convert\" onclick=\"convertToInteractive('df-15fd839a-a0d1-4fa1-80ec-6e426b96bd18')\"\n",
              "              title=\"Convert this dataframe to an interactive table.\"\n",
              "              style=\"display:none;\">\n",
              "        \n",
              "  <svg xmlns=\"http://www.w3.org/2000/svg\" height=\"24px\"viewBox=\"0 0 24 24\"\n",
              "       width=\"24px\">\n",
              "    <path d=\"M0 0h24v24H0V0z\" fill=\"none\"/>\n",
              "    <path d=\"M18.56 5.44l.94 2.06.94-2.06 2.06-.94-2.06-.94-.94-2.06-.94 2.06-2.06.94zm-11 1L8.5 8.5l.94-2.06 2.06-.94-2.06-.94L8.5 2.5l-.94 2.06-2.06.94zm10 10l.94 2.06.94-2.06 2.06-.94-2.06-.94-.94-2.06-.94 2.06-2.06.94z\"/><path d=\"M17.41 7.96l-1.37-1.37c-.4-.4-.92-.59-1.43-.59-.52 0-1.04.2-1.43.59L10.3 9.45l-7.72 7.72c-.78.78-.78 2.05 0 2.83L4 21.41c.39.39.9.59 1.41.59.51 0 1.02-.2 1.41-.59l7.78-7.78 2.81-2.81c.8-.78.8-2.07 0-2.86zM5.41 20L4 18.59l7.72-7.72 1.47 1.35L5.41 20z\"/>\n",
              "  </svg>\n",
              "      </button>\n",
              "      \n",
              "  <style>\n",
              "    .colab-df-container {\n",
              "      display:flex;\n",
              "      flex-wrap:wrap;\n",
              "      gap: 12px;\n",
              "    }\n",
              "\n",
              "    .colab-df-convert {\n",
              "      background-color: #E8F0FE;\n",
              "      border: none;\n",
              "      border-radius: 50%;\n",
              "      cursor: pointer;\n",
              "      display: none;\n",
              "      fill: #1967D2;\n",
              "      height: 32px;\n",
              "      padding: 0 0 0 0;\n",
              "      width: 32px;\n",
              "    }\n",
              "\n",
              "    .colab-df-convert:hover {\n",
              "      background-color: #E2EBFA;\n",
              "      box-shadow: 0px 1px 2px rgba(60, 64, 67, 0.3), 0px 1px 3px 1px rgba(60, 64, 67, 0.15);\n",
              "      fill: #174EA6;\n",
              "    }\n",
              "\n",
              "    [theme=dark] .colab-df-convert {\n",
              "      background-color: #3B4455;\n",
              "      fill: #D2E3FC;\n",
              "    }\n",
              "\n",
              "    [theme=dark] .colab-df-convert:hover {\n",
              "      background-color: #434B5C;\n",
              "      box-shadow: 0px 1px 3px 1px rgba(0, 0, 0, 0.15);\n",
              "      filter: drop-shadow(0px 1px 2px rgba(0, 0, 0, 0.3));\n",
              "      fill: #FFFFFF;\n",
              "    }\n",
              "  </style>\n",
              "\n",
              "      <script>\n",
              "        const buttonEl =\n",
              "          document.querySelector('#df-15fd839a-a0d1-4fa1-80ec-6e426b96bd18 button.colab-df-convert');\n",
              "        buttonEl.style.display =\n",
              "          google.colab.kernel.accessAllowed ? 'block' : 'none';\n",
              "\n",
              "        async function convertToInteractive(key) {\n",
              "          const element = document.querySelector('#df-15fd839a-a0d1-4fa1-80ec-6e426b96bd18');\n",
              "          const dataTable =\n",
              "            await google.colab.kernel.invokeFunction('convertToInteractive',\n",
              "                                                     [key], {});\n",
              "          if (!dataTable) return;\n",
              "\n",
              "          const docLinkHtml = 'Like what you see? Visit the ' +\n",
              "            '<a target=\"_blank\" href=https://colab.research.google.com/notebooks/data_table.ipynb>data table notebook</a>'\n",
              "            + ' to learn more about interactive tables.';\n",
              "          element.innerHTML = '';\n",
              "          dataTable['output_type'] = 'display_data';\n",
              "          await google.colab.output.renderOutput(dataTable, element);\n",
              "          const docLink = document.createElement('div');\n",
              "          docLink.innerHTML = docLinkHtml;\n",
              "          element.appendChild(docLink);\n",
              "        }\n",
              "      </script>\n",
              "    </div>\n",
              "  </div>\n",
              "  "
            ]
          },
          "metadata": {},
          "execution_count": 8
        }
      ]
    },
    {
      "cell_type": "markdown",
      "source": [
        "Check number of unique values in each column for some basic understanding of dota\n",
        "- gameutctime can be repeated where different players start a bet simultaneously\n",
        "- Bet wager exists in 10 different amounts (based on this dataset)\n",
        "- Bet payout depends on the bet wager and the payout percentage (mostly 0 as most bets do not pay out)\n",
        "- 4036 unique users \n",
        "- 8435 sessions "
      ],
      "metadata": {
        "id": "6nZoz845aIf9"
      }
    },
    {
      "cell_type": "code",
      "source": [
        "betdata.nunique()"
      ],
      "metadata": {
        "colab": {
          "base_uri": "https://localhost:8080/"
        },
        "id": "t_oA-kMcZ4d9",
        "outputId": "bc09073b-d1c1-4a9d-92f0-58051572787a"
      },
      "execution_count": null,
      "outputs": [
        {
          "output_type": "execute_result",
          "data": {
            "text/plain": [
              "gameutctime         2441545\n",
              "betWager                 10\n",
              "betPayout               742\n",
              "sessionBalance       309705\n",
              "userid_masked          4036\n",
              "sessionid_masked       8435\n",
              "dtype: int64"
            ]
          },
          "metadata": {},
          "execution_count": 9
        }
      ]
    },
    {
      "cell_type": "markdown",
      "source": [
        "Descriptive statistics of the following 3 columns\n",
        "- betWager\t\n",
        "- betPayout (mean bet payout > mean bet wager)\n",
        "  - A player can expect to receive back (13.26 / 13.74) * 100 = **96.50 dollars for every 100 dollars they wager.**\n",
        "  - House edge ~3.5%\n",
        "- sessionBalance\n",
        "  - Most players' balances hover below $1000 with some extreme cases at few hundred thousand dollars"
      ],
      "metadata": {
        "id": "TS9D5YplpuRF"
      }
    },
    {
      "cell_type": "code",
      "source": [
        "betdata.iloc[:, 1:4].describe().round(2)[1:]"
      ],
      "metadata": {
        "colab": {
          "base_uri": "https://localhost:8080/",
          "height": 269
        },
        "id": "-Z5MBIaXpuVr",
        "outputId": "7f2f1a28-72d5-4fe4-ea12-ca217944ced4"
      },
      "execution_count": null,
      "outputs": [
        {
          "output_type": "execute_result",
          "data": {
            "text/plain": [
              "      betWager  betPayout  sessionBalance\n",
              "mean     13.74      13.26         1182.10\n",
              "std      39.26     141.71         8117.79\n",
              "min       2.25       0.00            0.00\n",
              "25%       2.25       0.00          115.08\n",
              "50%       4.50       0.00          294.83\n",
              "75%       9.00       2.50          741.35\n",
              "max     900.00   50500.00       382191.50"
            ],
            "text/html": [
              "\n",
              "  <div id=\"df-9b27563e-262f-471c-b99a-b055dcb44a1f\">\n",
              "    <div class=\"colab-df-container\">\n",
              "      <div>\n",
              "<style scoped>\n",
              "    .dataframe tbody tr th:only-of-type {\n",
              "        vertical-align: middle;\n",
              "    }\n",
              "\n",
              "    .dataframe tbody tr th {\n",
              "        vertical-align: top;\n",
              "    }\n",
              "\n",
              "    .dataframe thead th {\n",
              "        text-align: right;\n",
              "    }\n",
              "</style>\n",
              "<table border=\"1\" class=\"dataframe\">\n",
              "  <thead>\n",
              "    <tr style=\"text-align: right;\">\n",
              "      <th></th>\n",
              "      <th>betWager</th>\n",
              "      <th>betPayout</th>\n",
              "      <th>sessionBalance</th>\n",
              "    </tr>\n",
              "  </thead>\n",
              "  <tbody>\n",
              "    <tr>\n",
              "      <th>mean</th>\n",
              "      <td>13.74</td>\n",
              "      <td>13.26</td>\n",
              "      <td>1182.10</td>\n",
              "    </tr>\n",
              "    <tr>\n",
              "      <th>std</th>\n",
              "      <td>39.26</td>\n",
              "      <td>141.71</td>\n",
              "      <td>8117.79</td>\n",
              "    </tr>\n",
              "    <tr>\n",
              "      <th>min</th>\n",
              "      <td>2.25</td>\n",
              "      <td>0.00</td>\n",
              "      <td>0.00</td>\n",
              "    </tr>\n",
              "    <tr>\n",
              "      <th>25%</th>\n",
              "      <td>2.25</td>\n",
              "      <td>0.00</td>\n",
              "      <td>115.08</td>\n",
              "    </tr>\n",
              "    <tr>\n",
              "      <th>50%</th>\n",
              "      <td>4.50</td>\n",
              "      <td>0.00</td>\n",
              "      <td>294.83</td>\n",
              "    </tr>\n",
              "    <tr>\n",
              "      <th>75%</th>\n",
              "      <td>9.00</td>\n",
              "      <td>2.50</td>\n",
              "      <td>741.35</td>\n",
              "    </tr>\n",
              "    <tr>\n",
              "      <th>max</th>\n",
              "      <td>900.00</td>\n",
              "      <td>50500.00</td>\n",
              "      <td>382191.50</td>\n",
              "    </tr>\n",
              "  </tbody>\n",
              "</table>\n",
              "</div>\n",
              "      <button class=\"colab-df-convert\" onclick=\"convertToInteractive('df-9b27563e-262f-471c-b99a-b055dcb44a1f')\"\n",
              "              title=\"Convert this dataframe to an interactive table.\"\n",
              "              style=\"display:none;\">\n",
              "        \n",
              "  <svg xmlns=\"http://www.w3.org/2000/svg\" height=\"24px\"viewBox=\"0 0 24 24\"\n",
              "       width=\"24px\">\n",
              "    <path d=\"M0 0h24v24H0V0z\" fill=\"none\"/>\n",
              "    <path d=\"M18.56 5.44l.94 2.06.94-2.06 2.06-.94-2.06-.94-.94-2.06-.94 2.06-2.06.94zm-11 1L8.5 8.5l.94-2.06 2.06-.94-2.06-.94L8.5 2.5l-.94 2.06-2.06.94zm10 10l.94 2.06.94-2.06 2.06-.94-2.06-.94-.94-2.06-.94 2.06-2.06.94z\"/><path d=\"M17.41 7.96l-1.37-1.37c-.4-.4-.92-.59-1.43-.59-.52 0-1.04.2-1.43.59L10.3 9.45l-7.72 7.72c-.78.78-.78 2.05 0 2.83L4 21.41c.39.39.9.59 1.41.59.51 0 1.02-.2 1.41-.59l7.78-7.78 2.81-2.81c.8-.78.8-2.07 0-2.86zM5.41 20L4 18.59l7.72-7.72 1.47 1.35L5.41 20z\"/>\n",
              "  </svg>\n",
              "      </button>\n",
              "      \n",
              "  <style>\n",
              "    .colab-df-container {\n",
              "      display:flex;\n",
              "      flex-wrap:wrap;\n",
              "      gap: 12px;\n",
              "    }\n",
              "\n",
              "    .colab-df-convert {\n",
              "      background-color: #E8F0FE;\n",
              "      border: none;\n",
              "      border-radius: 50%;\n",
              "      cursor: pointer;\n",
              "      display: none;\n",
              "      fill: #1967D2;\n",
              "      height: 32px;\n",
              "      padding: 0 0 0 0;\n",
              "      width: 32px;\n",
              "    }\n",
              "\n",
              "    .colab-df-convert:hover {\n",
              "      background-color: #E2EBFA;\n",
              "      box-shadow: 0px 1px 2px rgba(60, 64, 67, 0.3), 0px 1px 3px 1px rgba(60, 64, 67, 0.15);\n",
              "      fill: #174EA6;\n",
              "    }\n",
              "\n",
              "    [theme=dark] .colab-df-convert {\n",
              "      background-color: #3B4455;\n",
              "      fill: #D2E3FC;\n",
              "    }\n",
              "\n",
              "    [theme=dark] .colab-df-convert:hover {\n",
              "      background-color: #434B5C;\n",
              "      box-shadow: 0px 1px 3px 1px rgba(0, 0, 0, 0.15);\n",
              "      filter: drop-shadow(0px 1px 2px rgba(0, 0, 0, 0.3));\n",
              "      fill: #FFFFFF;\n",
              "    }\n",
              "  </style>\n",
              "\n",
              "      <script>\n",
              "        const buttonEl =\n",
              "          document.querySelector('#df-9b27563e-262f-471c-b99a-b055dcb44a1f button.colab-df-convert');\n",
              "        buttonEl.style.display =\n",
              "          google.colab.kernel.accessAllowed ? 'block' : 'none';\n",
              "\n",
              "        async function convertToInteractive(key) {\n",
              "          const element = document.querySelector('#df-9b27563e-262f-471c-b99a-b055dcb44a1f');\n",
              "          const dataTable =\n",
              "            await google.colab.kernel.invokeFunction('convertToInteractive',\n",
              "                                                     [key], {});\n",
              "          if (!dataTable) return;\n",
              "\n",
              "          const docLinkHtml = 'Like what you see? Visit the ' +\n",
              "            '<a target=\"_blank\" href=https://colab.research.google.com/notebooks/data_table.ipynb>data table notebook</a>'\n",
              "            + ' to learn more about interactive tables.';\n",
              "          element.innerHTML = '';\n",
              "          dataTable['output_type'] = 'display_data';\n",
              "          await google.colab.output.renderOutput(dataTable, element);\n",
              "          const docLink = document.createElement('div');\n",
              "          docLink.innerHTML = docLinkHtml;\n",
              "          element.appendChild(docLink);\n",
              "        }\n",
              "      </script>\n",
              "    </div>\n",
              "  </div>\n",
              "  "
            ]
          },
          "metadata": {},
          "execution_count": 10
        }
      ]
    },
    {
      "cell_type": "markdown",
      "source": [
        "# **Exploratory Data Analysis and Feature Engineering**\n",
        "- Visualizations\n",
        "- Hypothesis testing\n",
        "- Creation of binary label\n",
        "- Creation of informative features"
      ],
      "metadata": {
        "id": "5D9cWrAj6emV"
      }
    },
    {
      "cell_type": "markdown",
      "source": [
        "## **Countplot of Bet Wager**\n",
        "- Most bet wagers are small (2.25, 4.5, 9.0, 18.0)\n",
        "- Subsequent wager values tend to double in size\n",
        "  - 2.25 * 2 = 4.5\n",
        "  - 4.5 * 2 = 9.0"
      ],
      "metadata": {
        "id": "g0WgMzJ35VW8"
      }
    },
    {
      "cell_type": "code",
      "source": [
        "sns.countplot(x = \"betWager\", data = betdata)\n",
        "plt.title(\"Countplot of Bet Wager\")\n",
        "plt.tight_layout()\n",
        "plt.show()"
      ],
      "metadata": {
        "colab": {
          "base_uri": "https://localhost:8080/",
          "height": 297
        },
        "id": "iaZ_MroY4_7i",
        "outputId": "e7aa5273-0489-438a-f129-6d55b0e4475c"
      },
      "execution_count": null,
      "outputs": [
        {
          "output_type": "display_data",
          "data": {
            "text/plain": [
              "<Figure size 432x288 with 1 Axes>"
            ],
            "image/png": "[encoded data removed]"
          },
          "metadata": {
            "needs_background": "light"
          }
        }
      ]
    },
    {
      "cell_type": "markdown",
      "source": [
        "## **Density Plot of Bet Payout**\n",
        "- Right-skewed distribution where most payouts are 0\n",
        "- Correspond to the bet wager distribution where most wagers are small bets which lead to smaller sized payouts as well"
      ],
      "metadata": {
        "id": "Q9ztdaHP5pON"
      }
    },
    {
      "cell_type": "code",
      "source": [
        "sns.kdeplot(betdata[\"betPayout\"])\n",
        "plt.title(\"Density Plot of Bet Payout\")\n",
        "plt.tight_layout()\n",
        "plt.show()"
      ],
      "metadata": {
        "colab": {
          "base_uri": "https://localhost:8080/",
          "height": 297
        },
        "id": "6cd6EsaSAm6j",
        "outputId": "49048cf8-a109-4708-e670-449b4845803b"
      },
      "execution_count": null,
      "outputs": [
        {
          "output_type": "display_data",
          "data": {
            "text/plain": [
              "<Figure size 432x288 with 1 Axes>"
            ],
            "image/png": "[encoded data removed]"
          },
          "metadata": {
            "needs_background": "light"
          }
        }
      ]
    },
    {
      "cell_type": "markdown",
      "source": [
        "## **Distribution of Bet Payouts for Different Bet Wagers**\n",
        "- For each wager, approximately 50% of the bets will receive payouts that are half the value of the wager and below."
      ],
      "metadata": {
        "id": "NRwVuVdeQ9c5"
      }
    },
    {
      "cell_type": "code",
      "source": [
        "sns.boxplot(betdata[\"betWager\"], betdata[\"betPayout\"], showfliers = False)\n",
        "plt.title(\"Distribution of Bet Payouts for Different Bet Wagers\")\n",
        "plt.tight_layout()\n",
        "plt.show()"
      ],
      "metadata": {
        "colab": {
          "base_uri": "https://localhost:8080/",
          "height": 297
        },
        "id": "BtbjITL5Q9gX",
        "outputId": "db1168aa-2eb0-42bb-db50-5dbb149ca500"
      },
      "execution_count": null,
      "outputs": [
        {
          "output_type": "display_data",
          "data": {
            "text/plain": [
              "<Figure size 432x288 with 1 Axes>"
            ],
            "image/png": "[encoded data removed]"
          },
          "metadata": {
            "needs_background": "light"
          }
        }
      ]
    },
    {
      "cell_type": "markdown",
      "source": [
        "## **Boxplots of Session Balance (With and without extremely large values)**\n",
        "- Most session balances lie within the 100-800 range\n",
        "- Some players have session balances of up to a few hundred thousand dollars"
      ],
      "metadata": {
        "id": "h2LIwoifEA81"
      }
    },
    {
      "cell_type": "code",
      "source": [
        "sns.boxplot(betdata[\"sessionBalance\"], showfliers = True)\n",
        "plt.title(\"Boxplot of Session Balance (All data: log scale)\")\n",
        "plt.xscale('log')\n",
        "plt.tight_layout()\n",
        "plt.show()"
      ],
      "metadata": {
        "colab": {
          "base_uri": "https://localhost:8080/",
          "height": 297
        },
        "id": "am0z4IvhEBAH",
        "outputId": "008bcbbd-5bc4-4b34-946b-ae23704a41bb"
      },
      "execution_count": null,
      "outputs": [
        {
          "output_type": "display_data",
          "data": {
            "text/plain": [
              "<Figure size 432x288 with 1 Axes>"
            ],
            "image/png": "[encoded data removed]"
          },
          "metadata": {
            "needs_background": "light"
          }
        }
      ]
    },
    {
      "cell_type": "code",
      "source": [
        "sns.boxplot(betdata[\"sessionBalance\"], showfliers = False)\n",
        "plt.title(\"Boxplot of Session Balance (Without outliers)\")\n",
        "plt.tight_layout()\n",
        "plt.show()"
      ],
      "metadata": {
        "colab": {
          "base_uri": "https://localhost:8080/",
          "height": 297
        },
        "id": "TVMtbU6CE4Ll",
        "outputId": "6ce1e857-b0ca-418f-f92a-cebc14266e97"
      },
      "execution_count": null,
      "outputs": [
        {
          "output_type": "display_data",
          "data": {
            "text/plain": [
              "<Figure size 432x288 with 1 Axes>"
            ],
            "image/png": "[encoded data removed]"
          },
          "metadata": {
            "needs_background": "light"
          }
        }
      ]
    },
    {
      "cell_type": "markdown",
      "source": [
        "## **Barplot of Total Number of Sessions for Most Frequent Players**\n",
        "- Show top 40 as an example (space constraint)"
      ],
      "metadata": {
        "id": "fFCqymLV5uF6"
      }
    },
    {
      "cell_type": "code",
      "source": [
        "total_sessions_per_user = pd.DataFrame(betdata.groupby(betdata['userid_masked'])['sessionid_masked'].nunique()).sort_values('sessionid_masked', ascending = False).head(40)\n",
        "sns.set(rc = {\"figure.figsize\": (18, 8)})\n",
        "sns.barplot(total_sessions_per_user.index, total_sessions_per_user['sessionid_masked'], order = total_sessions_per_user.index)\n",
        "plt.title(\"Barplot of Total Number of Sessions for Most Frequent Players\")\n",
        "plt.ylabel('Total Sessions')\n",
        "plt.xticks(rotation = 45)\n",
        "plt.tight_layout()\n",
        "plt.show()"
      ],
      "metadata": {
        "colab": {
          "base_uri": "https://localhost:8080/",
          "height": 507
        },
        "id": "0dyPNg8vZ4bH",
        "outputId": "ddf400be-e416-4e87-b066-7e52000494d3"
      },
      "execution_count": null,
      "outputs": [
        {
          "output_type": "display_data",
          "data": {
            "text/plain": [
              "<Figure size 1296x576 with 1 Axes>"
            ],
            "image/png": "[encoded data removed]"
          },
          "metadata": {}
        }
      ]
    },
    {
      "cell_type": "markdown",
      "source": [
        "## **Countplot of Total Sessions Distribution**\n",
        "- Most players (>90%) leave after 1-5 sessions\n",
        "- Only minority of players play more than 5 sessions"
      ],
      "metadata": {
        "id": "wR2PiEkD5wIy"
      }
    },
    {
      "cell_type": "code",
      "source": [
        "total_sessions_per_user_dist = pd.DataFrame(betdata.groupby(betdata['userid_masked'])['sessionid_masked'].nunique()).sort_values('sessionid_masked', ascending = False)\n",
        "sns.set(rc = {\"figure.figsize\": (15, 6)})\n",
        "total = float(len(total_sessions_per_user_dist))\n",
        "ax = sns.countplot(x = \"sessionid_masked\", data = total_sessions_per_user_dist)\n",
        "plt.title(\"Countplot of Total Sessions Distribution\")\n",
        "for p in ax.patches[0:8]:\n",
        "    percentage = '{:.1f}%'.format(100 * p.get_height() / total)\n",
        "    x = p.get_x() + p.get_width() / 2\n",
        "    y = p.get_height()\n",
        "    ax.annotate(percentage, (x, y), ha = 'center')\n",
        "plt.xlabel('Total Sessions')\n",
        "plt.tight_layout()\n",
        "plt.show()"
      ],
      "metadata": {
        "colab": {
          "base_uri": "https://localhost:8080/",
          "height": 437
        },
        "id": "0TF75NOZjwa9",
        "outputId": "3a11657e-45da-41a9-c6d7-b33e6fa492ff"
      },
      "execution_count": null,
      "outputs": [
        {
          "output_type": "display_data",
          "data": {
            "text/plain": [
              "<Figure size 1080x432 with 1 Axes>"
            ],
            "image/png": "[encoded data removed]"
          },
          "metadata": {}
        }
      ]
    },
    {
      "cell_type": "markdown",
      "source": [
        "## **Binary class label to facilitate supervised learning**\n",
        "\n",
        "Create a column 'session_ending_bet' indicating whether the particular bet is the session's last bet (to be used as label for explantory and predictive purposes: binary classification)\n",
        "- 1 = Yes\n",
        "- 0 = No"
      ],
      "metadata": {
        "id": "T3m3ukZM9HW-"
      }
    },
    {
      "cell_type": "code",
      "source": [
        "betdata['session_ending_bet'] = np.where(betdata['gameutctime'] == betdata.groupby('sessionid_masked')['gameutctime'].transform('max'), 1, 0)"
      ],
      "metadata": {
        "id": "JIYueQ8i5nA7"
      },
      "execution_count": null,
      "outputs": []
    },
    {
      "cell_type": "code",
      "source": [
        "betdata['session_ending_bet'] = betdata['session_ending_bet'].astype('category')"
      ],
      "metadata": {
        "id": "5Y578SIsuZhc"
      },
      "execution_count": null,
      "outputs": []
    },
    {
      "cell_type": "code",
      "source": [
        "betdata['session_ending_bet'].value_counts()"
      ],
      "metadata": {
        "colab": {
          "base_uri": "https://localhost:8080/"
        },
        "id": "nx89qCUvqv8R",
        "outputId": "1f15f33c-0930-446d-8cb6-77c8631cb909"
      },
      "execution_count": null,
      "outputs": [
        {
          "output_type": "execute_result",
          "data": {
            "text/plain": [
              "0    2478947\n",
              "1       8435\n",
              "Name: session_ending_bet, dtype: int64"
            ]
          },
          "metadata": {},
          "execution_count": 20
        }
      ]
    },
    {
      "cell_type": "code",
      "source": [
        "betdata['session_ending_bet'].value_counts(normalize = True) * 100"
      ],
      "metadata": {
        "colab": {
          "base_uri": "https://localhost:8080/"
        },
        "id": "DY__psgjVxNf",
        "outputId": "830312b0-b701-4382-ffcc-5bfbea28e57a"
      },
      "execution_count": null,
      "outputs": [
        {
          "output_type": "execute_result",
          "data": {
            "text/plain": [
              "0    99.660888\n",
              "1     0.339112\n",
              "Name: session_ending_bet, dtype: float64"
            ]
          },
          "metadata": {},
          "execution_count": 21
        }
      ]
    },
    {
      "cell_type": "code",
      "source": [
        "betdata.head(927)"
      ],
      "metadata": {
        "colab": {
          "base_uri": "https://localhost:8080/",
          "height": 423
        },
        "id": "p-wjR_so_kHG",
        "outputId": "1ac6676b-a0be-435f-d69a-aae6d818bc41"
      },
      "execution_count": null,
      "outputs": [
        {
          "output_type": "execute_result",
          "data": {
            "text/plain": [
              "                 gameutctime  betWager  betPayout  sessionBalance  \\\n",
              "0    2020-05-21 13:13:36.470      2.25        0.0          309.97   \n",
              "1    2020-05-21 13:13:37.860      2.25        0.0          307.72   \n",
              "2    2020-05-21 13:13:39.750      2.25        0.0          305.47   \n",
              "3    2020-05-21 13:13:41.567      2.25        0.0          303.22   \n",
              "4    2020-05-21 13:13:43.810      2.25        0.0          300.97   \n",
              "..                       ...       ...        ...             ...   \n",
              "922  2020-05-21 13:57:25.510      2.25        0.0          652.97   \n",
              "923  2020-05-21 13:57:29.613      2.25        0.0          650.72   \n",
              "924  2020-05-23 05:10:51.160     18.00        0.0          187.02   \n",
              "925  2020-05-23 05:10:54.017     18.00      110.0          279.02   \n",
              "926  2020-05-23 05:10:57.900     18.00        0.0          261.02   \n",
              "\n",
              "     userid_masked  sessionid_masked session_ending_bet  \n",
              "0             5340         846050959                  0  \n",
              "1             5340         846050959                  0  \n",
              "2             5340         846050959                  0  \n",
              "3             5340         846050959                  0  \n",
              "4             5340         846050959                  0  \n",
              "..             ...               ...                ...  \n",
              "922           5340         846050959                  0  \n",
              "923           5340         846050959                  1  \n",
              "924          18718         438576893                  0  \n",
              "925          18718         438576893                  0  \n",
              "926          18718         438576893                  0  \n",
              "\n",
              "[927 rows x 7 columns]"
            ],
            "text/html": [
              "\n",
              "  <div id=\"df-05a7e68b-086d-43ab-9790-254690c7aedc\">\n",
              "    <div class=\"colab-df-container\">\n",
              "      <div>\n",
              "<style scoped>\n",
              "    .dataframe tbody tr th:only-of-type {\n",
              "        vertical-align: middle;\n",
              "    }\n",
              "\n",
              "    .dataframe tbody tr th {\n",
              "        vertical-align: top;\n",
              "    }\n",
              "\n",
              "    .dataframe thead th {\n",
              "        text-align: right;\n",
              "    }\n",
              "</style>\n",
              "<table border=\"1\" class=\"dataframe\">\n",
              "  <thead>\n",
              "    <tr style=\"text-align: right;\">\n",
              "      <th></th>\n",
              "      <th>gameutctime</th>\n",
              "      <th>betWager</th>\n",
              "      <th>betPayout</th>\n",
              "      <th>sessionBalance</th>\n",
              "      <th>userid_masked</th>\n",
              "      <th>sessionid_masked</th>\n",
              "      <th>session_ending_bet</th>\n",
              "    </tr>\n",
              "  </thead>\n",
              "  <tbody>\n",
              "    <tr>\n",
              "      <th>0</th>\n",
              "      <td>2020-05-21 13:13:36.470</td>\n",
              "      <td>2.25</td>\n",
              "      <td>0.0</td>\n",
              "      <td>309.97</td>\n",
              "      <td>5340</td>\n",
              "      <td>846050959</td>\n",
              "      <td>0</td>\n",
              "    </tr>\n",
              "    <tr>\n",
              "      <th>1</th>\n",
              "      <td>2020-05-21 13:13:37.860</td>\n",
              "      <td>2.25</td>\n",
              "      <td>0.0</td>\n",
              "      <td>307.72</td>\n",
              "      <td>5340</td>\n",
              "      <td>846050959</td>\n",
              "      <td>0</td>\n",
              "    </tr>\n",
              "    <tr>\n",
              "      <th>2</th>\n",
              "      <td>2020-05-21 13:13:39.750</td>\n",
              "      <td>2.25</td>\n",
              "      <td>0.0</td>\n",
              "      <td>305.47</td>\n",
              "      <td>5340</td>\n",
              "      <td>846050959</td>\n",
              "      <td>0</td>\n",
              "    </tr>\n",
              "    <tr>\n",
              "      <th>3</th>\n",
              "      <td>2020-05-21 13:13:41.567</td>\n",
              "      <td>2.25</td>\n",
              "      <td>0.0</td>\n",
              "      <td>303.22</td>\n",
              "      <td>5340</td>\n",
              "      <td>846050959</td>\n",
              "      <td>0</td>\n",
              "    </tr>\n",
              "    <tr>\n",
              "      <th>4</th>\n",
              "      <td>2020-05-21 13:13:43.810</td>\n",
              "      <td>2.25</td>\n",
              "      <td>0.0</td>\n",
              "      <td>300.97</td>\n",
              "      <td>5340</td>\n",
              "      <td>846050959</td>\n",
              "      <td>0</td>\n",
              "    </tr>\n",
              "    <tr>\n",
              "      <th>...</th>\n",
              "      <td>...</td>\n",
              "      <td>...</td>\n",
              "      <td>...</td>\n",
              "      <td>...</td>\n",
              "      <td>...</td>\n",
              "      <td>...</td>\n",
              "      <td>...</td>\n",
              "    </tr>\n",
              "    <tr>\n",
              "      <th>922</th>\n",
              "      <td>2020-05-21 13:57:25.510</td>\n",
              "      <td>2.25</td>\n",
              "      <td>0.0</td>\n",
              "      <td>652.97</td>\n",
              "      <td>5340</td>\n",
              "      <td>846050959</td>\n",
              "      <td>0</td>\n",
              "    </tr>\n",
              "    <tr>\n",
              "      <th>923</th>\n",
              "      <td>2020-05-21 13:57:29.613</td>\n",
              "      <td>2.25</td>\n",
              "      <td>0.0</td>\n",
              "      <td>650.72</td>\n",
              "      <td>5340</td>\n",
              "      <td>846050959</td>\n",
              "      <td>1</td>\n",
              "    </tr>\n",
              "    <tr>\n",
              "      <th>924</th>\n",
              "      <td>2020-05-23 05:10:51.160</td>\n",
              "      <td>18.00</td>\n",
              "      <td>0.0</td>\n",
              "      <td>187.02</td>\n",
              "      <td>18718</td>\n",
              "      <td>438576893</td>\n",
              "      <td>0</td>\n",
              "    </tr>\n",
              "    <tr>\n",
              "      <th>925</th>\n",
              "      <td>2020-05-23 05:10:54.017</td>\n",
              "      <td>18.00</td>\n",
              "      <td>110.0</td>\n",
              "      <td>279.02</td>\n",
              "      <td>18718</td>\n",
              "      <td>438576893</td>\n",
              "      <td>0</td>\n",
              "    </tr>\n",
              "    <tr>\n",
              "      <th>926</th>\n",
              "      <td>2020-05-23 05:10:57.900</td>\n",
              "      <td>18.00</td>\n",
              "      <td>0.0</td>\n",
              "      <td>261.02</td>\n",
              "      <td>18718</td>\n",
              "      <td>438576893</td>\n",
              "      <td>0</td>\n",
              "    </tr>\n",
              "  </tbody>\n",
              "</table>\n",
              "<p>927 rows × 7 columns</p>\n",
              "</div>\n",
              "      <button class=\"colab-df-convert\" onclick=\"convertToInteractive('df-05a7e68b-086d-43ab-9790-254690c7aedc')\"\n",
              "              title=\"Convert this dataframe to an interactive table.\"\n",
              "              style=\"display:none;\">\n",
              "        \n",
              "  <svg xmlns=\"http://www.w3.org/2000/svg\" height=\"24px\"viewBox=\"0 0 24 24\"\n",
              "       width=\"24px\">\n",
              "    <path d=\"M0 0h24v24H0V0z\" fill=\"none\"/>\n",
              "    <path d=\"M18.56 5.44l.94 2.06.94-2.06 2.06-.94-2.06-.94-.94-2.06-.94 2.06-2.06.94zm-11 1L8.5 8.5l.94-2.06 2.06-.94-2.06-.94L8.5 2.5l-.94 2.06-2.06.94zm10 10l.94 2.06.94-2.06 2.06-.94-2.06-.94-.94-2.06-.94 2.06-2.06.94z\"/><path d=\"M17.41 7.96l-1.37-1.37c-.4-.4-.92-.59-1.43-.59-.52 0-1.04.2-1.43.59L10.3 9.45l-7.72 7.72c-.78.78-.78 2.05 0 2.83L4 21.41c.39.39.9.59 1.41.59.51 0 1.02-.2 1.41-.59l7.78-7.78 2.81-2.81c.8-.78.8-2.07 0-2.86zM5.41 20L4 18.59l7.72-7.72 1.47 1.35L5.41 20z\"/>\n",
              "  </svg>\n",
              "      </button>\n",
              "      \n",
              "  <style>\n",
              "    .colab-df-container {\n",
              "      display:flex;\n",
              "      flex-wrap:wrap;\n",
              "      gap: 12px;\n",
              "    }\n",
              "\n",
              "    .colab-df-convert {\n",
              "      background-color: #E8F0FE;\n",
              "      border: none;\n",
              "      border-radius: 50%;\n",
              "      cursor: pointer;\n",
              "      display: none;\n",
              "      fill: #1967D2;\n",
              "      height: 32px;\n",
              "      padding: 0 0 0 0;\n",
              "      width: 32px;\n",
              "    }\n",
              "\n",
              "    .colab-df-convert:hover {\n",
              "      background-color: #E2EBFA;\n",
              "      box-shadow: 0px 1px 2px rgba(60, 64, 67, 0.3), 0px 1px 3px 1px rgba(60, 64, 67, 0.15);\n",
              "      fill: #174EA6;\n",
              "    }\n",
              "\n",
              "    [theme=dark] .colab-df-convert {\n",
              "      background-color: #3B4455;\n",
              "      fill: #D2E3FC;\n",
              "    }\n",
              "\n",
              "    [theme=dark] .colab-df-convert:hover {\n",
              "      background-color: #434B5C;\n",
              "      box-shadow: 0px 1px 3px 1px rgba(0, 0, 0, 0.15);\n",
              "      filter: drop-shadow(0px 1px 2px rgba(0, 0, 0, 0.3));\n",
              "      fill: #FFFFFF;\n",
              "    }\n",
              "  </style>\n",
              "\n",
              "      <script>\n",
              "        const buttonEl =\n",
              "          document.querySelector('#df-05a7e68b-086d-43ab-9790-254690c7aedc button.colab-df-convert');\n",
              "        buttonEl.style.display =\n",
              "          google.colab.kernel.accessAllowed ? 'block' : 'none';\n",
              "\n",
              "        async function convertToInteractive(key) {\n",
              "          const element = document.querySelector('#df-05a7e68b-086d-43ab-9790-254690c7aedc');\n",
              "          const dataTable =\n",
              "            await google.colab.kernel.invokeFunction('convertToInteractive',\n",
              "                                                     [key], {});\n",
              "          if (!dataTable) return;\n",
              "\n",
              "          const docLinkHtml = 'Like what you see? Visit the ' +\n",
              "            '<a target=\"_blank\" href=https://colab.research.google.com/notebooks/data_table.ipynb>data table notebook</a>'\n",
              "            + ' to learn more about interactive tables.';\n",
              "          element.innerHTML = '';\n",
              "          dataTable['output_type'] = 'display_data';\n",
              "          await google.colab.output.renderOutput(dataTable, element);\n",
              "          const docLink = document.createElement('div');\n",
              "          docLink.innerHTML = docLinkHtml;\n",
              "          element.appendChild(docLink);\n",
              "        }\n",
              "      </script>\n",
              "    </div>\n",
              "  </div>\n",
              "  "
            ]
          },
          "metadata": {},
          "execution_count": 22
        }
      ]
    },
    {
      "cell_type": "markdown",
      "source": [
        "**Distribution of bet wager based on whether the session ended (outliers hidden)**\n",
        "- Can observe that if the session ended, the final bet wager is on the lower side.\n",
        "- However, this doesn't work in reverse as low bet wagers are much more common.\n",
        "  - i.e. cannot predict a session's last bet based solely on low bet wager"
      ],
      "metadata": {
        "id": "n5XO7a-_kp7r"
      }
    },
    {
      "cell_type": "code",
      "source": [
        "sns.boxplot(x = \"session_ending_bet\", y = \"betWager\", data = betdata, showfliers = False)\n",
        "plt.title(\"Distribution of bet wager based on whether the session ended (outliers hidden)\")\n",
        "plt.xticks([0, 1], ['No', 'Yes'])\n",
        "plt.show()"
      ],
      "metadata": {
        "colab": {
          "base_uri": "https://localhost:8080/",
          "height": 410
        },
        "id": "6C5cV1b4dgp4",
        "outputId": "9841ac11-13b3-425b-82eb-1177ae5802e3"
      },
      "execution_count": null,
      "outputs": [
        {
          "output_type": "display_data",
          "data": {
            "text/plain": [
              "<Figure size 1080x432 with 1 Axes>"
            ],
            "image/png": "[encoded data removed]"
          },
          "metadata": {}
        }
      ]
    },
    {
      "cell_type": "markdown",
      "source": [
        "**Distribution of bet payout based on whether the session ended (outliers hidden)**\n",
        "- Can observe that if the session ended, bet payout is usually 0.\n",
        "- However, this doesn't work in reverse as bet payout of 0 is very common.\n",
        "  - i.e. cannot predict a session's last bet based solely on bet payout of 0"
      ],
      "metadata": {
        "id": "5HGmWPRajumJ"
      }
    },
    {
      "cell_type": "code",
      "source": [
        "sns.boxplot(x = \"session_ending_bet\", y = \"betPayout\", data = betdata, showfliers = False)\n",
        "plt.title(\"Distribution of bet payout based on whether the session ended (outliers hidden)\")\n",
        "plt.xticks([0, 1], ['No', 'Yes'])\n",
        "plt.show()"
      ],
      "metadata": {
        "colab": {
          "base_uri": "https://localhost:8080/",
          "height": 410
        },
        "id": "o-Cfyc37i2Wy",
        "outputId": "dc4ff538-18d2-46e6-bb2c-ffde0de940fc"
      },
      "execution_count": null,
      "outputs": [
        {
          "output_type": "display_data",
          "data": {
            "text/plain": [
              "<Figure size 1080x432 with 1 Axes>"
            ],
            "image/png": "[encoded data removed]"
          },
          "metadata": {}
        }
      ]
    },
    {
      "cell_type": "markdown",
      "source": [
        "**Distribution of session balance based on whether the session ended (outliers hidden)**\n",
        "- Can observe that if the session ended, session balance tends to be low.\n",
        "- However, this doesn't work in reverse as most players have low balances throughout.\n",
        "  - i.e. cannot predict a session's last bet based solely on low session balances"
      ],
      "metadata": {
        "id": "j6YogVLR0tRa"
      }
    },
    {
      "cell_type": "code",
      "source": [
        "sns.boxplot(x = \"session_ending_bet\", y = \"sessionBalance\", data = betdata, showfliers = False)\n",
        "plt.title(\"Distribution of session balance based on whether the session ended (outliers hidden)\")\n",
        "plt.xticks([0, 1], ['No', 'Yes'])\n",
        "plt.show()"
      ],
      "metadata": {
        "colab": {
          "base_uri": "https://localhost:8080/",
          "height": 410
        },
        "outputId": "d2f3fe0d-0e64-4afc-b141-ec2f37aec042",
        "id": "Et_v-mRD0tRh"
      },
      "execution_count": null,
      "outputs": [
        {
          "output_type": "display_data",
          "data": {
            "text/plain": [
              "<Figure size 1080x432 with 1 Axes>"
            ],
            "image/png": "[encoded data removed]"
          },
          "metadata": {}
        }
      ]
    },
    {
      "cell_type": "markdown",
      "source": [
        "## **Engineered feature: 'lost_money'** \n",
        "- Indicates whether the player lost money on a particular bet\n",
        "  - 1 = Yes\n",
        "  - 0 = No\n",
        "\n",
        "- If betPayout < betWager, the player has effectively lost money on that bet and vice versa"
      ],
      "metadata": {
        "id": "sPuUIW5dCu33"
      }
    },
    {
      "cell_type": "code",
      "source": [
        "betdata['lost_money'] = np.where(betdata['betWager'] > betdata['betPayout'], 1, 0)"
      ],
      "metadata": {
        "id": "jusXvEAD5nIv"
      },
      "execution_count": null,
      "outputs": []
    },
    {
      "cell_type": "code",
      "source": [
        "betdata['lost_money'] = betdata['lost_money'].astype('category')"
      ],
      "metadata": {
        "id": "2vx70t7L0puP"
      },
      "execution_count": null,
      "outputs": []
    },
    {
      "cell_type": "code",
      "source": [
        "betdata.head(10)"
      ],
      "metadata": {
        "colab": {
          "base_uri": "https://localhost:8080/",
          "height": 363
        },
        "id": "4o3ic6TEA-bE",
        "outputId": "45f99c6a-a0ae-40f6-85d8-f78519e1b3af"
      },
      "execution_count": null,
      "outputs": [
        {
          "output_type": "execute_result",
          "data": {
            "text/plain": [
              "               gameutctime  betWager  betPayout  sessionBalance  \\\n",
              "0  2020-05-21 13:13:36.470      2.25       0.00          309.97   \n",
              "1  2020-05-21 13:13:37.860      2.25       0.00          307.72   \n",
              "2  2020-05-21 13:13:39.750      2.25       0.00          305.47   \n",
              "3  2020-05-21 13:13:41.567      2.25       0.00          303.22   \n",
              "4  2020-05-21 13:13:43.810      2.25       0.00          300.97   \n",
              "5  2020-05-21 13:13:46.180      2.25       6.25          304.97   \n",
              "6  2020-05-21 13:13:48.960      2.25       0.00          302.72   \n",
              "7  2020-05-21 13:13:50.517      2.25      15.00          315.47   \n",
              "8  2020-05-21 13:13:54.097      2.25       0.00          313.22   \n",
              "9  2020-05-21 13:13:55.720      2.25       7.50          318.47   \n",
              "\n",
              "   userid_masked  sessionid_masked session_ending_bet lost_money  \n",
              "0           5340         846050959                  0          1  \n",
              "1           5340         846050959                  0          1  \n",
              "2           5340         846050959                  0          1  \n",
              "3           5340         846050959                  0          1  \n",
              "4           5340         846050959                  0          1  \n",
              "5           5340         846050959                  0          0  \n",
              "6           5340         846050959                  0          1  \n",
              "7           5340         846050959                  0          0  \n",
              "8           5340         846050959                  0          1  \n",
              "9           5340         846050959                  0          0  "
            ],
            "text/html": [
              "\n",
              "  <div id=\"df-7b070810-fcce-4103-bbd4-e6c877f17769\">\n",
              "    <div class=\"colab-df-container\">\n",
              "      <div>\n",
              "<style scoped>\n",
              "    .dataframe tbody tr th:only-of-type {\n",
              "        vertical-align: middle;\n",
              "    }\n",
              "\n",
              "    .dataframe tbody tr th {\n",
              "        vertical-align: top;\n",
              "    }\n",
              "\n",
              "    .dataframe thead th {\n",
              "        text-align: right;\n",
              "    }\n",
              "</style>\n",
              "<table border=\"1\" class=\"dataframe\">\n",
              "  <thead>\n",
              "    <tr style=\"text-align: right;\">\n",
              "      <th></th>\n",
              "      <th>gameutctime</th>\n",
              "      <th>betWager</th>\n",
              "      <th>betPayout</th>\n",
              "      <th>sessionBalance</th>\n",
              "      <th>userid_masked</th>\n",
              "      <th>sessionid_masked</th>\n",
              "      <th>session_ending_bet</th>\n",
              "      <th>lost_money</th>\n",
              "    </tr>\n",
              "  </thead>\n",
              "  <tbody>\n",
              "    <tr>\n",
              "      <th>0</th>\n",
              "      <td>2020-05-21 13:13:36.470</td>\n",
              "      <td>2.25</td>\n",
              "      <td>0.00</td>\n",
              "      <td>309.97</td>\n",
              "      <td>5340</td>\n",
              "      <td>846050959</td>\n",
              "      <td>0</td>\n",
              "      <td>1</td>\n",
              "    </tr>\n",
              "    <tr>\n",
              "      <th>1</th>\n",
              "      <td>2020-05-21 13:13:37.860</td>\n",
              "      <td>2.25</td>\n",
              "      <td>0.00</td>\n",
              "      <td>307.72</td>\n",
              "      <td>5340</td>\n",
              "      <td>846050959</td>\n",
              "      <td>0</td>\n",
              "      <td>1</td>\n",
              "    </tr>\n",
              "    <tr>\n",
              "      <th>2</th>\n",
              "      <td>2020-05-21 13:13:39.750</td>\n",
              "      <td>2.25</td>\n",
              "      <td>0.00</td>\n",
              "      <td>305.47</td>\n",
              "      <td>5340</td>\n",
              "      <td>846050959</td>\n",
              "      <td>0</td>\n",
              "      <td>1</td>\n",
              "    </tr>\n",
              "    <tr>\n",
              "      <th>3</th>\n",
              "      <td>2020-05-21 13:13:41.567</td>\n",
              "      <td>2.25</td>\n",
              "      <td>0.00</td>\n",
              "      <td>303.22</td>\n",
              "      <td>5340</td>\n",
              "      <td>846050959</td>\n",
              "      <td>0</td>\n",
              "      <td>1</td>\n",
              "    </tr>\n",
              "    <tr>\n",
              "      <th>4</th>\n",
              "      <td>2020-05-21 13:13:43.810</td>\n",
              "      <td>2.25</td>\n",
              "      <td>0.00</td>\n",
              "      <td>300.97</td>\n",
              "      <td>5340</td>\n",
              "      <td>846050959</td>\n",
              "      <td>0</td>\n",
              "      <td>1</td>\n",
              "    </tr>\n",
              "    <tr>\n",
              "      <th>5</th>\n",
              "      <td>2020-05-21 13:13:46.180</td>\n",
              "      <td>2.25</td>\n",
              "      <td>6.25</td>\n",
              "      <td>304.97</td>\n",
              "      <td>5340</td>\n",
              "      <td>846050959</td>\n",
              "      <td>0</td>\n",
              "      <td>0</td>\n",
              "    </tr>\n",
              "    <tr>\n",
              "      <th>6</th>\n",
              "      <td>2020-05-21 13:13:48.960</td>\n",
              "      <td>2.25</td>\n",
              "      <td>0.00</td>\n",
              "      <td>302.72</td>\n",
              "      <td>5340</td>\n",
              "      <td>846050959</td>\n",
              "      <td>0</td>\n",
              "      <td>1</td>\n",
              "    </tr>\n",
              "    <tr>\n",
              "      <th>7</th>\n",
              "      <td>2020-05-21 13:13:50.517</td>\n",
              "      <td>2.25</td>\n",
              "      <td>15.00</td>\n",
              "      <td>315.47</td>\n",
              "      <td>5340</td>\n",
              "      <td>846050959</td>\n",
              "      <td>0</td>\n",
              "      <td>0</td>\n",
              "    </tr>\n",
              "    <tr>\n",
              "      <th>8</th>\n",
              "      <td>2020-05-21 13:13:54.097</td>\n",
              "      <td>2.25</td>\n",
              "      <td>0.00</td>\n",
              "      <td>313.22</td>\n",
              "      <td>5340</td>\n",
              "      <td>846050959</td>\n",
              "      <td>0</td>\n",
              "      <td>1</td>\n",
              "    </tr>\n",
              "    <tr>\n",
              "      <th>9</th>\n",
              "      <td>2020-05-21 13:13:55.720</td>\n",
              "      <td>2.25</td>\n",
              "      <td>7.50</td>\n",
              "      <td>318.47</td>\n",
              "      <td>5340</td>\n",
              "      <td>846050959</td>\n",
              "      <td>0</td>\n",
              "      <td>0</td>\n",
              "    </tr>\n",
              "  </tbody>\n",
              "</table>\n",
              "</div>\n",
              "      <button class=\"colab-df-convert\" onclick=\"convertToInteractive('df-7b070810-fcce-4103-bbd4-e6c877f17769')\"\n",
              "              title=\"Convert this dataframe to an interactive table.\"\n",
              "              style=\"display:none;\">\n",
              "        \n",
              "  <svg xmlns=\"http://www.w3.org/2000/svg\" height=\"24px\"viewBox=\"0 0 24 24\"\n",
              "       width=\"24px\">\n",
              "    <path d=\"M0 0h24v24H0V0z\" fill=\"none\"/>\n",
              "    <path d=\"M18.56 5.44l.94 2.06.94-2.06 2.06-.94-2.06-.94-.94-2.06-.94 2.06-2.06.94zm-11 1L8.5 8.5l.94-2.06 2.06-.94-2.06-.94L8.5 2.5l-.94 2.06-2.06.94zm10 10l.94 2.06.94-2.06 2.06-.94-2.06-.94-.94-2.06-.94 2.06-2.06.94z\"/><path d=\"M17.41 7.96l-1.37-1.37c-.4-.4-.92-.59-1.43-.59-.52 0-1.04.2-1.43.59L10.3 9.45l-7.72 7.72c-.78.78-.78 2.05 0 2.83L4 21.41c.39.39.9.59 1.41.59.51 0 1.02-.2 1.41-.59l7.78-7.78 2.81-2.81c.8-.78.8-2.07 0-2.86zM5.41 20L4 18.59l7.72-7.72 1.47 1.35L5.41 20z\"/>\n",
              "  </svg>\n",
              "      </button>\n",
              "      \n",
              "  <style>\n",
              "    .colab-df-container {\n",
              "      display:flex;\n",
              "      flex-wrap:wrap;\n",
              "      gap: 12px;\n",
              "    }\n",
              "\n",
              "    .colab-df-convert {\n",
              "      background-color: #E8F0FE;\n",
              "      border: none;\n",
              "      border-radius: 50%;\n",
              "      cursor: pointer;\n",
              "      display: none;\n",
              "      fill: #1967D2;\n",
              "      height: 32px;\n",
              "      padding: 0 0 0 0;\n",
              "      width: 32px;\n",
              "    }\n",
              "\n",
              "    .colab-df-convert:hover {\n",
              "      background-color: #E2EBFA;\n",
              "      box-shadow: 0px 1px 2px rgba(60, 64, 67, 0.3), 0px 1px 3px 1px rgba(60, 64, 67, 0.15);\n",
              "      fill: #174EA6;\n",
              "    }\n",
              "\n",
              "    [theme=dark] .colab-df-convert {\n",
              "      background-color: #3B4455;\n",
              "      fill: #D2E3FC;\n",
              "    }\n",
              "\n",
              "    [theme=dark] .colab-df-convert:hover {\n",
              "      background-color: #434B5C;\n",
              "      box-shadow: 0px 1px 3px 1px rgba(0, 0, 0, 0.15);\n",
              "      filter: drop-shadow(0px 1px 2px rgba(0, 0, 0, 0.3));\n",
              "      fill: #FFFFFF;\n",
              "    }\n",
              "  </style>\n",
              "\n",
              "      <script>\n",
              "        const buttonEl =\n",
              "          document.querySelector('#df-7b070810-fcce-4103-bbd4-e6c877f17769 button.colab-df-convert');\n",
              "        buttonEl.style.display =\n",
              "          google.colab.kernel.accessAllowed ? 'block' : 'none';\n",
              "\n",
              "        async function convertToInteractive(key) {\n",
              "          const element = document.querySelector('#df-7b070810-fcce-4103-bbd4-e6c877f17769');\n",
              "          const dataTable =\n",
              "            await google.colab.kernel.invokeFunction('convertToInteractive',\n",
              "                                                     [key], {});\n",
              "          if (!dataTable) return;\n",
              "\n",
              "          const docLinkHtml = 'Like what you see? Visit the ' +\n",
              "            '<a target=\"_blank\" href=https://colab.research.google.com/notebooks/data_table.ipynb>data table notebook</a>'\n",
              "            + ' to learn more about interactive tables.';\n",
              "          element.innerHTML = '';\n",
              "          dataTable['output_type'] = 'display_data';\n",
              "          await google.colab.output.renderOutput(dataTable, element);\n",
              "          const docLink = document.createElement('div');\n",
              "          docLink.innerHTML = docLinkHtml;\n",
              "          element.appendChild(docLink);\n",
              "        }\n",
              "      </script>\n",
              "    </div>\n",
              "  </div>\n",
              "  "
            ]
          },
          "metadata": {},
          "execution_count": 28
        }
      ]
    },
    {
      "cell_type": "markdown",
      "source": [
        "**Chi-Square Test for Independence Between Categorical Variables**\n",
        "- Null hypothesis: There is no significant relationship between 'lost_money' and 'session_ending_bet'.\n",
        "- Alternative hypothesis: There is a significant relationship between 'lost_money' and 'session_ending_bet'.\n",
        "\n",
        "Significance level (α): 0.05\n",
        "\n",
        "Since the p-value (1.02e-254) is smaller than our chosen significance level (α = 0.05), there is sufficient evidence to reject the null hypothesis and conclude that there is a significant relationship between 'lost_money' and 'session_ending_bet'.\n",
        "\n",
        "Limitation: A chi-square value can not tell you what the relationship is between two variables, only that a relationship exists between the two variables"
      ],
      "metadata": {
        "id": "2UgA1zkjUXEE"
      }
    },
    {
      "cell_type": "code",
      "source": [
        "ct = pd.crosstab(betdata.session_ending_bet, betdata.lost_money, margins = True)\n",
        "obs = np.array([ct.iloc[0].values,\n",
        "                ct.iloc[1].values])\n",
        "print(\"X² statistic: {}\\np-value: {}\".format(round(scipy.stats.chi2_contingency(obs, correction = False)[0], 2),\n",
        "                                             scipy.stats.chi2_contingency(obs, correction = False)[1]))"
      ],
      "metadata": {
        "colab": {
          "base_uri": "https://localhost:8080/"
        },
        "id": "YFQBpV3_tPus",
        "outputId": "73279340-9067-4dce-b58d-2857d96ad186"
      },
      "execution_count": null,
      "outputs": [
        {
          "output_type": "stream",
          "name": "stdout",
          "text": [
            "X² statistic: 1169.66\n",
            "p-value: 1.0247429731433871e-254\n"
          ]
        }
      ]
    },
    {
      "cell_type": "markdown",
      "source": [
        "**Session ending bet count based on whether the player lost money (log scale)**\n",
        "- Can observe that if the player lost money in a bet, there is a higher chance (close to an order of magnitude) that the bet might be the last bet for the session as compared to not losing money.\n",
        "- Issue: Losing money is very common (high prevalence within the target population).\n",
        "  - Cannot accurately predict a session's last bet based solely on losing money\n",
        "  - i.e. Simple heuristic: If we predict all money-losing bets to be the last bets, there would be many false positives."
      ],
      "metadata": {
        "id": "uQUxz4ue979R"
      }
    },
    {
      "cell_type": "code",
      "source": [
        "g = sns.countplot(x = \"lost_money\", hue = \"session_ending_bet\", data = betdata)\n",
        "plt.title(\"Session ending bet count based on whether the player lost money (log scale)\")\n",
        "plt.ylabel(\"Count\")\n",
        "plt.yscale(\"log\")\n",
        "plt.xticks([0, 1], ['No', 'Yes'])\n",
        "L = plt.legend(title = \"session_ending_bet\")\n",
        "L.get_texts()[0].set_text('No')\n",
        "L.get_texts()[1].set_text('Yes')\n",
        "plt.show()"
      ],
      "metadata": {
        "colab": {
          "base_uri": "https://localhost:8080/",
          "height": 410
        },
        "id": "MCsAX77x8p49",
        "outputId": "f026094b-f818-4375-c9f2-b73202fc7485"
      },
      "execution_count": null,
      "outputs": [
        {
          "output_type": "display_data",
          "data": {
            "text/plain": [
              "<Figure size 1080x432 with 1 Axes>"
            ],
            "image/png": "[encoded data removed]"
          },
          "metadata": {}
        }
      ]
    },
    {
      "cell_type": "markdown",
      "source": [
        "**Convert 'gameutctime' from object to datetime64[ns] data type**\n",
        "- To facilitate the creation of time-based features and/or manipulation of timestamps"
      ],
      "metadata": {
        "id": "lwGky7NhQ5SK"
      }
    },
    {
      "cell_type": "code",
      "source": [
        "betdata['gameutctime'] = pd.to_datetime(betdata['gameutctime'], format=\"%Y-%m-%d %H:%M:%S\")"
      ],
      "metadata": {
        "id": "wM0GldrYB-JN"
      },
      "execution_count": null,
      "outputs": []
    },
    {
      "cell_type": "code",
      "source": [
        "betdata.dtypes"
      ],
      "metadata": {
        "colab": {
          "base_uri": "https://localhost:8080/"
        },
        "id": "RwGbNFK_Cbat",
        "outputId": "2fea868f-c831-4313-a0b9-278e1a61141d"
      },
      "execution_count": null,
      "outputs": [
        {
          "output_type": "execute_result",
          "data": {
            "text/plain": [
              "gameutctime           datetime64[ns]\n",
              "betWager                     float64\n",
              "betPayout                    float64\n",
              "sessionBalance               float64\n",
              "userid_masked                  int64\n",
              "sessionid_masked               int64\n",
              "session_ending_bet          category\n",
              "lost_money                  category\n",
              "dtype: object"
            ]
          },
          "metadata": {},
          "execution_count": 32
        }
      ]
    },
    {
      "cell_type": "markdown",
      "source": [
        "## **Engineered feature: 'lowered_wager'** \n",
        "- Indicates whether the player lowered the wager relative to the last bet\n",
        "  - 1 = Yes\n",
        "  - 0 = No\n",
        "\n",
        "- If betWager[i] < betWager[i-1], the player has lowered the wager"
      ],
      "metadata": {
        "id": "lZdSK31F443q"
      }
    },
    {
      "cell_type": "code",
      "source": [
        "betdata['lowered_wager'] = np.where(betdata['betWager'] < betdata['betWager'].shift(), 1, 0)"
      ],
      "metadata": {
        "id": "3OneAGyuErTA"
      },
      "execution_count": null,
      "outputs": []
    },
    {
      "cell_type": "code",
      "source": [
        "betdata['lowered_wager'] = betdata['lowered_wager'].astype('category')"
      ],
      "metadata": {
        "id": "BSDsiZxpErXw"
      },
      "execution_count": null,
      "outputs": []
    },
    {
      "cell_type": "code",
      "source": [
        "betdata.tail(5)"
      ],
      "metadata": {
        "colab": {
          "base_uri": "https://localhost:8080/",
          "height": 337
        },
        "id": "VEj9PNvHEraQ",
        "outputId": "8c61d4a7-fe96-4503-db82-2e8a29cc4164"
      },
      "execution_count": null,
      "outputs": [
        {
          "output_type": "execute_result",
          "data": {
            "text/plain": [
              "                    gameutctime  betWager  betPayout  sessionBalance  \\\n",
              "2487377 2020-05-23 19:50:11.497      4.50        2.5          917.40   \n",
              "2487378 2020-05-23 19:50:15.180      4.50        0.0          912.90   \n",
              "2487379 2020-05-23 19:50:19.040      4.50        0.0          908.40   \n",
              "2487380 2020-05-23 19:50:21.903      4.50        0.0          903.90   \n",
              "2487381 2020-05-23 19:50:28.620      2.25        0.0          901.65   \n",
              "\n",
              "         userid_masked  sessionid_masked session_ending_bet lost_money  \\\n",
              "2487377       23453788         424576703                  0          1   \n",
              "2487378       23453788         424576703                  0          1   \n",
              "2487379       23453788         424576703                  0          1   \n",
              "2487380       23453788         424576703                  0          1   \n",
              "2487381       23453788         424576703                  1          1   \n",
              "\n",
              "        lowered_wager  \n",
              "2487377             0  \n",
              "2487378             0  \n",
              "2487379             0  \n",
              "2487380             0  \n",
              "2487381             1  "
            ],
            "text/html": [
              "\n",
              "  <div id=\"df-3e2e440d-2dbf-4941-831a-8f7725033b03\">\n",
              "    <div class=\"colab-df-container\">\n",
              "      <div>\n",
              "<style scoped>\n",
              "    .dataframe tbody tr th:only-of-type {\n",
              "        vertical-align: middle;\n",
              "    }\n",
              "\n",
              "    .dataframe tbody tr th {\n",
              "        vertical-align: top;\n",
              "    }\n",
              "\n",
              "    .dataframe thead th {\n",
              "        text-align: right;\n",
              "    }\n",
              "</style>\n",
              "<table border=\"1\" class=\"dataframe\">\n",
              "  <thead>\n",
              "    <tr style=\"text-align: right;\">\n",
              "      <th></th>\n",
              "      <th>gameutctime</th>\n",
              "      <th>betWager</th>\n",
              "      <th>betPayout</th>\n",
              "      <th>sessionBalance</th>\n",
              "      <th>userid_masked</th>\n",
              "      <th>sessionid_masked</th>\n",
              "      <th>session_ending_bet</th>\n",
              "      <th>lost_money</th>\n",
              "      <th>lowered_wager</th>\n",
              "    </tr>\n",
              "  </thead>\n",
              "  <tbody>\n",
              "    <tr>\n",
              "      <th>2487377</th>\n",
              "      <td>2020-05-23 19:50:11.497</td>\n",
              "      <td>4.50</td>\n",
              "      <td>2.5</td>\n",
              "      <td>917.40</td>\n",
              "      <td>23453788</td>\n",
              "      <td>424576703</td>\n",
              "      <td>0</td>\n",
              "      <td>1</td>\n",
              "      <td>0</td>\n",
              "    </tr>\n",
              "    <tr>\n",
              "      <th>2487378</th>\n",
              "      <td>2020-05-23 19:50:15.180</td>\n",
              "      <td>4.50</td>\n",
              "      <td>0.0</td>\n",
              "      <td>912.90</td>\n",
              "      <td>23453788</td>\n",
              "      <td>424576703</td>\n",
              "      <td>0</td>\n",
              "      <td>1</td>\n",
              "      <td>0</td>\n",
              "    </tr>\n",
              "    <tr>\n",
              "      <th>2487379</th>\n",
              "      <td>2020-05-23 19:50:19.040</td>\n",
              "      <td>4.50</td>\n",
              "      <td>0.0</td>\n",
              "      <td>908.40</td>\n",
              "      <td>23453788</td>\n",
              "      <td>424576703</td>\n",
              "      <td>0</td>\n",
              "      <td>1</td>\n",
              "      <td>0</td>\n",
              "    </tr>\n",
              "    <tr>\n",
              "      <th>2487380</th>\n",
              "      <td>2020-05-23 19:50:21.903</td>\n",
              "      <td>4.50</td>\n",
              "      <td>0.0</td>\n",
              "      <td>903.90</td>\n",
              "      <td>23453788</td>\n",
              "      <td>424576703</td>\n",
              "      <td>0</td>\n",
              "      <td>1</td>\n",
              "      <td>0</td>\n",
              "    </tr>\n",
              "    <tr>\n",
              "      <th>2487381</th>\n",
              "      <td>2020-05-23 19:50:28.620</td>\n",
              "      <td>2.25</td>\n",
              "      <td>0.0</td>\n",
              "      <td>901.65</td>\n",
              "      <td>23453788</td>\n",
              "      <td>424576703</td>\n",
              "      <td>1</td>\n",
              "      <td>1</td>\n",
              "      <td>1</td>\n",
              "    </tr>\n",
              "  </tbody>\n",
              "</table>\n",
              "</div>\n",
              "      <button class=\"colab-df-convert\" onclick=\"convertToInteractive('df-3e2e440d-2dbf-4941-831a-8f7725033b03')\"\n",
              "              title=\"Convert this dataframe to an interactive table.\"\n",
              "              style=\"display:none;\">\n",
              "        \n",
              "  <svg xmlns=\"http://www.w3.org/2000/svg\" height=\"24px\"viewBox=\"0 0 24 24\"\n",
              "       width=\"24px\">\n",
              "    <path d=\"M0 0h24v24H0V0z\" fill=\"none\"/>\n",
              "    <path d=\"M18.56 5.44l.94 2.06.94-2.06 2.06-.94-2.06-.94-.94-2.06-.94 2.06-2.06.94zm-11 1L8.5 8.5l.94-2.06 2.06-.94-2.06-.94L8.5 2.5l-.94 2.06-2.06.94zm10 10l.94 2.06.94-2.06 2.06-.94-2.06-.94-.94-2.06-.94 2.06-2.06.94z\"/><path d=\"M17.41 7.96l-1.37-1.37c-.4-.4-.92-.59-1.43-.59-.52 0-1.04.2-1.43.59L10.3 9.45l-7.72 7.72c-.78.78-.78 2.05 0 2.83L4 21.41c.39.39.9.59 1.41.59.51 0 1.02-.2 1.41-.59l7.78-7.78 2.81-2.81c.8-.78.8-2.07 0-2.86zM5.41 20L4 18.59l7.72-7.72 1.47 1.35L5.41 20z\"/>\n",
              "  </svg>\n",
              "      </button>\n",
              "      \n",
              "  <style>\n",
              "    .colab-df-container {\n",
              "      display:flex;\n",
              "      flex-wrap:wrap;\n",
              "      gap: 12px;\n",
              "    }\n",
              "\n",
              "    .colab-df-convert {\n",
              "      background-color: #E8F0FE;\n",
              "      border: none;\n",
              "      border-radius: 50%;\n",
              "      cursor: pointer;\n",
              "      display: none;\n",
              "      fill: #1967D2;\n",
              "      height: 32px;\n",
              "      padding: 0 0 0 0;\n",
              "      width: 32px;\n",
              "    }\n",
              "\n",
              "    .colab-df-convert:hover {\n",
              "      background-color: #E2EBFA;\n",
              "      box-shadow: 0px 1px 2px rgba(60, 64, 67, 0.3), 0px 1px 3px 1px rgba(60, 64, 67, 0.15);\n",
              "      fill: #174EA6;\n",
              "    }\n",
              "\n",
              "    [theme=dark] .colab-df-convert {\n",
              "      background-color: #3B4455;\n",
              "      fill: #D2E3FC;\n",
              "    }\n",
              "\n",
              "    [theme=dark] .colab-df-convert:hover {\n",
              "      background-color: #434B5C;\n",
              "      box-shadow: 0px 1px 3px 1px rgba(0, 0, 0, 0.15);\n",
              "      filter: drop-shadow(0px 1px 2px rgba(0, 0, 0, 0.3));\n",
              "      fill: #FFFFFF;\n",
              "    }\n",
              "  </style>\n",
              "\n",
              "      <script>\n",
              "        const buttonEl =\n",
              "          document.querySelector('#df-3e2e440d-2dbf-4941-831a-8f7725033b03 button.colab-df-convert');\n",
              "        buttonEl.style.display =\n",
              "          google.colab.kernel.accessAllowed ? 'block' : 'none';\n",
              "\n",
              "        async function convertToInteractive(key) {\n",
              "          const element = document.querySelector('#df-3e2e440d-2dbf-4941-831a-8f7725033b03');\n",
              "          const dataTable =\n",
              "            await google.colab.kernel.invokeFunction('convertToInteractive',\n",
              "                                                     [key], {});\n",
              "          if (!dataTable) return;\n",
              "\n",
              "          const docLinkHtml = 'Like what you see? Visit the ' +\n",
              "            '<a target=\"_blank\" href=https://colab.research.google.com/notebooks/data_table.ipynb>data table notebook</a>'\n",
              "            + ' to learn more about interactive tables.';\n",
              "          element.innerHTML = '';\n",
              "          dataTable['output_type'] = 'display_data';\n",
              "          await google.colab.output.renderOutput(dataTable, element);\n",
              "          const docLink = document.createElement('div');\n",
              "          docLink.innerHTML = docLinkHtml;\n",
              "          element.appendChild(docLink);\n",
              "        }\n",
              "      </script>\n",
              "    </div>\n",
              "  </div>\n",
              "  "
            ]
          },
          "metadata": {},
          "execution_count": 35
        }
      ]
    },
    {
      "cell_type": "markdown",
      "source": [
        "**Chi-Square Test for Independence Between Categorical Variables**\n",
        "- Null hypothesis: There is no significant relationship between 'lowered_wager' and 'session_ending_bet'.\n",
        "- Alternative hypothesis: There is a significant relationship between 'lowered_wager' and 'session_ending_bet'.\n",
        "\n",
        "Significance level (α): 0.05\n",
        "\n",
        "Since the p-value (0.0) is smaller than our chosen significance level (α = 0.05), there is sufficient evidence to reject the null hypothesis and conclude that there is a significant relationship between 'lowered_wager' and 'session_ending_bet'."
      ],
      "metadata": {
        "id": "L4ObJkBA7P69"
      }
    },
    {
      "cell_type": "code",
      "source": [
        "ct = pd.crosstab(betdata.session_ending_bet, betdata.lowered_wager, margins = True)\n",
        "obs = np.array([ct.iloc[0].values,\n",
        "                ct.iloc[1].values])\n",
        "print(\"X² statistic: {}\\np-value: {}\".format(round(scipy.stats.chi2_contingency(obs, correction = False)[0], 2),\n",
        "                                             scipy.stats.chi2_contingency(obs, correction = False)[1]))"
      ],
      "metadata": {
        "id": "GzMnr5GbY9lO",
        "colab": {
          "base_uri": "https://localhost:8080/"
        },
        "outputId": "e9f33659-d2cc-4e82-c500-4cd6a8603f51"
      },
      "execution_count": null,
      "outputs": [
        {
          "output_type": "stream",
          "name": "stdout",
          "text": [
            "X² statistic: 12720.26\n",
            "p-value: 0.0\n"
          ]
        }
      ]
    },
    {
      "cell_type": "markdown",
      "source": [
        "**Session ending bet percentage based on whether the player lowered wager**\n",
        "- Can observe that if the player lowered wager in a bet, there is a higher probability that the bet might be the last bet for the session as compared to not lowering the wager.\n",
        "- Issue: Lowering wager doesn't happen most of the time.\n",
        "  - Cannot accurately predict a session's last bet based solely on lowering wager\n",
        "  - i.e. Simple heuristic: If we only predict all wager-lowering bets to be the last bets, there would be many false negatives (failure to detect those who ended the session even though they never lowered their wagers)."
      ],
      "metadata": {
        "id": "NiNhGhF293Tj"
      }
    },
    {
      "cell_type": "code",
      "source": [
        "new_df = betdata.groupby(\"lowered_wager\")[\"session_ending_bet\"].value_counts(normalize = True)\n",
        "new_df = new_df.mul(100).rename('Percent').reset_index()\n",
        "new_df.rename(columns = {\"level_1\": \"session_ending_bet\"}, inplace = True)"
      ],
      "metadata": {
        "id": "cYAhkGarY9vU"
      },
      "execution_count": null,
      "outputs": []
    },
    {
      "cell_type": "code",
      "source": [
        "g = sns.catplot(x = \"lowered_wager\", y = 'Percent', hue = \"session_ending_bet\", kind = 'bar', data = new_df, legend = False)\n",
        "g.ax.set_ylim(0, 100)\n",
        "plt.title(\"Session ending bet percentage based on whether the player lowered wager\", pad = 20)\n",
        "plt.ylabel(\"Percentage\")\n",
        "plt.xticks([0, 1], ['No', 'Yes'])\n",
        "L = plt.legend(title = \"session_ending_bet\", bbox_to_anchor = (1.04, 1))\n",
        "L.get_texts()[0].set_text('No')\n",
        "L.get_texts()[1].set_text('Yes')\n",
        "plt.show()"
      ],
      "metadata": {
        "colab": {
          "base_uri": "https://localhost:8080/",
          "height": 395
        },
        "id": "6tAg5P-T_4Vb",
        "outputId": "279e1853-3268-4156-9d6b-8d28d91e75bd"
      },
      "execution_count": null,
      "outputs": [
        {
          "output_type": "display_data",
          "data": {
            "text/plain": [
              "<Figure size 360x360 with 1 Axes>"
            ],
            "image/png": "[encoded data removed]"
          },
          "metadata": {}
        }
      ]
    },
    {
      "cell_type": "markdown",
      "source": [
        "## **Engineered feature: 'sess_len_min'** \n",
        "- Indicates how many minutes have passed since the start of the session\n",
        "- Proxy of physical/mental fatigue after a certain period of time\n",
        "  - Differ between individuals but should approximately average out (e.g. casual vs serious players)"
      ],
      "metadata": {
        "id": "-H85IGuzYaEu"
      }
    },
    {
      "cell_type": "code",
      "source": [
        "gameutctime_min = pd.DataFrame(betdata['gameutctime'].groupby(betdata['sessionid_masked']).min())"
      ],
      "metadata": {
        "id": "xG1vMb3NOpyy"
      },
      "execution_count": null,
      "outputs": []
    },
    {
      "cell_type": "code",
      "source": [
        "betdata = betdata.merge(gameutctime_min,\n",
        "                        how = 'inner',\n",
        "                        left_on = 'sessionid_masked',\n",
        "                        right_on = gameutctime_min.index)"
      ],
      "metadata": {
        "id": "KBeY36cMGmLz"
      },
      "execution_count": null,
      "outputs": []
    },
    {
      "cell_type": "code",
      "source": [
        "betdata['sess_len_min'] = np.floor((betdata['gameutctime_x'] - betdata['gameutctime_y']) / np.timedelta64(1, 'm')).astype(int)"
      ],
      "metadata": {
        "id": "1BnbWHd3TA2U"
      },
      "execution_count": null,
      "outputs": []
    },
    {
      "cell_type": "code",
      "source": [
        "betdata.rename(columns = {'gameutctime_x': 'gameutctime'}, inplace = True)\n",
        "betdata.drop(columns = {'gameutctime_y'}, inplace = True)"
      ],
      "metadata": {
        "id": "u6XO6vE_Xy2i"
      },
      "execution_count": null,
      "outputs": []
    },
    {
      "cell_type": "code",
      "source": [
        "betdata.loc[2487365:2487370, ]"
      ],
      "metadata": {
        "colab": {
          "base_uri": "https://localhost:8080/",
          "height": 406
        },
        "id": "YgshPZR8GRCu",
        "outputId": "26ffeb14-2556-4055-faa1-52bbb543f2ec"
      },
      "execution_count": null,
      "outputs": [
        {
          "output_type": "execute_result",
          "data": {
            "text/plain": [
              "                    gameutctime  betWager  betPayout  sessionBalance  \\\n",
              "2487365 2020-05-23 19:49:29.033       4.5        0.0           937.4   \n",
              "2487366 2020-05-23 19:49:31.557       4.5        0.0           932.9   \n",
              "2487367 2020-05-23 19:49:34.463       4.5        7.5           935.9   \n",
              "2487368 2020-05-23 19:49:38.320       4.5        0.0           931.4   \n",
              "2487369 2020-05-23 19:49:42.650       4.5        0.0           926.9   \n",
              "2487370 2020-05-23 19:49:45.383       4.5        7.5           929.9   \n",
              "\n",
              "         userid_masked  sessionid_masked session_ending_bet lost_money  \\\n",
              "2487365       23453788         424576703                  0          1   \n",
              "2487366       23453788         424576703                  0          1   \n",
              "2487367       23453788         424576703                  0          0   \n",
              "2487368       23453788         424576703                  0          1   \n",
              "2487369       23453788         424576703                  0          1   \n",
              "2487370       23453788         424576703                  0          0   \n",
              "\n",
              "        lowered_wager  sess_len_min withdrew_funds  loss_streak_counter  \n",
              "2487365             0             0              0                    4  \n",
              "2487366             0             0              0                    5  \n",
              "2487367             0             1              0                    0  \n",
              "2487368             0             1              0                    1  \n",
              "2487369             0             1              0                    2  \n",
              "2487370             0             1              0                    0  "
            ],
            "text/html": [
              "\n",
              "  <div id=\"df-7f57f1fe-09cf-4ade-90eb-9fdddedece7c\">\n",
              "    <div class=\"colab-df-container\">\n",
              "      <div>\n",
              "<style scoped>\n",
              "    .dataframe tbody tr th:only-of-type {\n",
              "        vertical-align: middle;\n",
              "    }\n",
              "\n",
              "    .dataframe tbody tr th {\n",
              "        vertical-align: top;\n",
              "    }\n",
              "\n",
              "    .dataframe thead th {\n",
              "        text-align: right;\n",
              "    }\n",
              "</style>\n",
              "<table border=\"1\" class=\"dataframe\">\n",
              "  <thead>\n",
              "    <tr style=\"text-align: right;\">\n",
              "      <th></th>\n",
              "      <th>gameutctime</th>\n",
              "      <th>betWager</th>\n",
              "      <th>betPayout</th>\n",
              "      <th>sessionBalance</th>\n",
              "      <th>userid_masked</th>\n",
              "      <th>sessionid_masked</th>\n",
              "      <th>session_ending_bet</th>\n",
              "      <th>lost_money</th>\n",
              "      <th>lowered_wager</th>\n",
              "      <th>sess_len_min</th>\n",
              "      <th>withdrew_funds</th>\n",
              "      <th>loss_streak_counter</th>\n",
              "    </tr>\n",
              "  </thead>\n",
              "  <tbody>\n",
              "    <tr>\n",
              "      <th>2487365</th>\n",
              "      <td>2020-05-23 19:49:29.033</td>\n",
              "      <td>4.5</td>\n",
              "      <td>0.0</td>\n",
              "      <td>937.4</td>\n",
              "      <td>23453788</td>\n",
              "      <td>424576703</td>\n",
              "      <td>0</td>\n",
              "      <td>1</td>\n",
              "      <td>0</td>\n",
              "      <td>0</td>\n",
              "      <td>0</td>\n",
              "      <td>4</td>\n",
              "    </tr>\n",
              "    <tr>\n",
              "      <th>2487366</th>\n",
              "      <td>2020-05-23 19:49:31.557</td>\n",
              "      <td>4.5</td>\n",
              "      <td>0.0</td>\n",
              "      <td>932.9</td>\n",
              "      <td>23453788</td>\n",
              "      <td>424576703</td>\n",
              "      <td>0</td>\n",
              "      <td>1</td>\n",
              "      <td>0</td>\n",
              "      <td>0</td>\n",
              "      <td>0</td>\n",
              "      <td>5</td>\n",
              "    </tr>\n",
              "    <tr>\n",
              "      <th>2487367</th>\n",
              "      <td>2020-05-23 19:49:34.463</td>\n",
              "      <td>4.5</td>\n",
              "      <td>7.5</td>\n",
              "      <td>935.9</td>\n",
              "      <td>23453788</td>\n",
              "      <td>424576703</td>\n",
              "      <td>0</td>\n",
              "      <td>0</td>\n",
              "      <td>0</td>\n",
              "      <td>1</td>\n",
              "      <td>0</td>\n",
              "      <td>0</td>\n",
              "    </tr>\n",
              "    <tr>\n",
              "      <th>2487368</th>\n",
              "      <td>2020-05-23 19:49:38.320</td>\n",
              "      <td>4.5</td>\n",
              "      <td>0.0</td>\n",
              "      <td>931.4</td>\n",
              "      <td>23453788</td>\n",
              "      <td>424576703</td>\n",
              "      <td>0</td>\n",
              "      <td>1</td>\n",
              "      <td>0</td>\n",
              "      <td>1</td>\n",
              "      <td>0</td>\n",
              "      <td>1</td>\n",
              "    </tr>\n",
              "    <tr>\n",
              "      <th>2487369</th>\n",
              "      <td>2020-05-23 19:49:42.650</td>\n",
              "      <td>4.5</td>\n",
              "      <td>0.0</td>\n",
              "      <td>926.9</td>\n",
              "      <td>23453788</td>\n",
              "      <td>424576703</td>\n",
              "      <td>0</td>\n",
              "      <td>1</td>\n",
              "      <td>0</td>\n",
              "      <td>1</td>\n",
              "      <td>0</td>\n",
              "      <td>2</td>\n",
              "    </tr>\n",
              "    <tr>\n",
              "      <th>2487370</th>\n",
              "      <td>2020-05-23 19:49:45.383</td>\n",
              "      <td>4.5</td>\n",
              "      <td>7.5</td>\n",
              "      <td>929.9</td>\n",
              "      <td>23453788</td>\n",
              "      <td>424576703</td>\n",
              "      <td>0</td>\n",
              "      <td>0</td>\n",
              "      <td>0</td>\n",
              "      <td>1</td>\n",
              "      <td>0</td>\n",
              "      <td>0</td>\n",
              "    </tr>\n",
              "  </tbody>\n",
              "</table>\n",
              "</div>\n",
              "      <button class=\"colab-df-convert\" onclick=\"convertToInteractive('df-7f57f1fe-09cf-4ade-90eb-9fdddedece7c')\"\n",
              "              title=\"Convert this dataframe to an interactive table.\"\n",
              "              style=\"display:none;\">\n",
              "        \n",
              "  <svg xmlns=\"http://www.w3.org/2000/svg\" height=\"24px\"viewBox=\"0 0 24 24\"\n",
              "       width=\"24px\">\n",
              "    <path d=\"M0 0h24v24H0V0z\" fill=\"none\"/>\n",
              "    <path d=\"M18.56 5.44l.94 2.06.94-2.06 2.06-.94-2.06-.94-.94-2.06-.94 2.06-2.06.94zm-11 1L8.5 8.5l.94-2.06 2.06-.94-2.06-.94L8.5 2.5l-.94 2.06-2.06.94zm10 10l.94 2.06.94-2.06 2.06-.94-2.06-.94-.94-2.06-.94 2.06-2.06.94z\"/><path d=\"M17.41 7.96l-1.37-1.37c-.4-.4-.92-.59-1.43-.59-.52 0-1.04.2-1.43.59L10.3 9.45l-7.72 7.72c-.78.78-.78 2.05 0 2.83L4 21.41c.39.39.9.59 1.41.59.51 0 1.02-.2 1.41-.59l7.78-7.78 2.81-2.81c.8-.78.8-2.07 0-2.86zM5.41 20L4 18.59l7.72-7.72 1.47 1.35L5.41 20z\"/>\n",
              "  </svg>\n",
              "      </button>\n",
              "      \n",
              "  <style>\n",
              "    .colab-df-container {\n",
              "      display:flex;\n",
              "      flex-wrap:wrap;\n",
              "      gap: 12px;\n",
              "    }\n",
              "\n",
              "    .colab-df-convert {\n",
              "      background-color: #E8F0FE;\n",
              "      border: none;\n",
              "      border-radius: 50%;\n",
              "      cursor: pointer;\n",
              "      display: none;\n",
              "      fill: #1967D2;\n",
              "      height: 32px;\n",
              "      padding: 0 0 0 0;\n",
              "      width: 32px;\n",
              "    }\n",
              "\n",
              "    .colab-df-convert:hover {\n",
              "      background-color: #E2EBFA;\n",
              "      box-shadow: 0px 1px 2px rgba(60, 64, 67, 0.3), 0px 1px 3px 1px rgba(60, 64, 67, 0.15);\n",
              "      fill: #174EA6;\n",
              "    }\n",
              "\n",
              "    [theme=dark] .colab-df-convert {\n",
              "      background-color: #3B4455;\n",
              "      fill: #D2E3FC;\n",
              "    }\n",
              "\n",
              "    [theme=dark] .colab-df-convert:hover {\n",
              "      background-color: #434B5C;\n",
              "      box-shadow: 0px 1px 3px 1px rgba(0, 0, 0, 0.15);\n",
              "      filter: drop-shadow(0px 1px 2px rgba(0, 0, 0, 0.3));\n",
              "      fill: #FFFFFF;\n",
              "    }\n",
              "  </style>\n",
              "\n",
              "      <script>\n",
              "        const buttonEl =\n",
              "          document.querySelector('#df-7f57f1fe-09cf-4ade-90eb-9fdddedece7c button.colab-df-convert');\n",
              "        buttonEl.style.display =\n",
              "          google.colab.kernel.accessAllowed ? 'block' : 'none';\n",
              "\n",
              "        async function convertToInteractive(key) {\n",
              "          const element = document.querySelector('#df-7f57f1fe-09cf-4ade-90eb-9fdddedece7c');\n",
              "          const dataTable =\n",
              "            await google.colab.kernel.invokeFunction('convertToInteractive',\n",
              "                                                     [key], {});\n",
              "          if (!dataTable) return;\n",
              "\n",
              "          const docLinkHtml = 'Like what you see? Visit the ' +\n",
              "            '<a target=\"_blank\" href=https://colab.research.google.com/notebooks/data_table.ipynb>data table notebook</a>'\n",
              "            + ' to learn more about interactive tables.';\n",
              "          element.innerHTML = '';\n",
              "          dataTable['output_type'] = 'display_data';\n",
              "          await google.colab.output.renderOutput(dataTable, element);\n",
              "          const docLink = document.createElement('div');\n",
              "          docLink.innerHTML = docLinkHtml;\n",
              "          element.appendChild(docLink);\n",
              "        }\n",
              "      </script>\n",
              "    </div>\n",
              "  </div>\n",
              "  "
            ]
          },
          "metadata": {},
          "execution_count": 96
        }
      ]
    },
    {
      "cell_type": "markdown",
      "source": [
        "**Distribution of current session length, in minutes, based on whether the session ended (outliers hidden)**\n",
        "- Most sessions tend to end quite fast (less than 25 minutes)\n",
        "- Sessions that go beyond 25 minutes tend to go on for much longer amount of time (wider body from median to upper quartile as compared to the lower quartile)"
      ],
      "metadata": {
        "id": "KsnQYIqUlXuU"
      }
    },
    {
      "cell_type": "code",
      "source": [
        "sns.boxplot(x = 'session_ending_bet', y = 'sess_len_min', data = betdata, showfliers = False)\n",
        "plt.title(\"Distribution of current session length, in minutes, based on whether the session ended (outliers hidden)\")\n",
        "plt.xticks([0, 1], ['No', 'Yes'])\n",
        "plt.show()"
      ],
      "metadata": {
        "colab": {
          "base_uri": "https://localhost:8080/",
          "height": 410
        },
        "id": "MHi90dNFXuPf",
        "outputId": "aa8c2865-c2a3-45be-aae7-85009b0eae76"
      },
      "execution_count": null,
      "outputs": [
        {
          "output_type": "display_data",
          "data": {
            "text/plain": [
              "<Figure size 1080x432 with 1 Axes>"
            ],
            "image/png": "[encoded data removed]"
          },
          "metadata": {}
        }
      ]
    },
    {
      "cell_type": "markdown",
      "source": [
        "**Welch’s t-test (used to test if the means of two populations are equal)**\n",
        "\n",
        "Assumptions: \n",
        "\n",
        "1) The independent variable (IV) is categorical with at least two levels (groups)\n",
        "\n",
        "2) The dependent variable (DV) is continuous which is measured on an interval or ratio scale\n",
        "\n",
        "3) The distribution of the two groups should follow the normal distribution\n",
        "- If n >= 30, assumption is fulfilled using central limit theorem\n",
        "\n",
        "- Null hypothesis: The session length mean of session-ending bet is equal to the session length mean of non session-ending bet.\n",
        "- Alternative hypothesis: The session length mean of session-ending bet is not equal to the session length mean of non session-ending bet.\n",
        "\n",
        "Significance level (α): 0.05\n",
        "\n",
        "t-score: -84.5045763414884\n",
        "\n",
        "Since the p-value (0.0) is smaller than our chosen significance level (α = 0.05), there is sufficient evidence to reject the null hypothesis and conclude that the session length mean of session-ending bet is not equal to the session length mean of non session-ending bet."
      ],
      "metadata": {
        "id": "tNUomwGNYVTx"
      }
    },
    {
      "cell_type": "code",
      "source": [
        "session_ended = betdata[(betdata['session_ending_bet'] == 1)]\n",
        "session_not_ended = betdata[(betdata['session_ending_bet'] == 0)]"
      ],
      "metadata": {
        "id": "CuwxxZh29iI_"
      },
      "execution_count": null,
      "outputs": []
    },
    {
      "cell_type": "code",
      "source": [
        "stats.ttest_ind(session_ended['sess_len_min'], session_not_ended['sess_len_min'], equal_var = False)"
      ],
      "metadata": {
        "colab": {
          "base_uri": "https://localhost:8080/"
        },
        "id": "IJi3pGzLRQqf",
        "outputId": "b5a36de2-e1b5-46ba-ac3a-72af1508eaa0"
      },
      "execution_count": null,
      "outputs": [
        {
          "output_type": "execute_result",
          "data": {
            "text/plain": [
              "Ttest_indResult(statistic=-84.5045763414884, pvalue=0.0)"
            ]
          },
          "metadata": {},
          "execution_count": 45
        }
      ]
    },
    {
      "cell_type": "markdown",
      "source": [
        "## **Engineered feature: 'withdrew_funds'** \n",
        "- Indicates whether the player withdrew funds from the account\n",
        "- Might be a sign that the player is about to stop playing\n",
        "  - Low session balance\n",
        "  - Achieved target amount for the session"
      ],
      "metadata": {
        "id": "p5IT-ZMLfIxm"
      }
    },
    {
      "cell_type": "code",
      "source": [
        "betdata['withdrew_funds'] = np.where(betdata['sessionBalance'] < (betdata['sessionBalance'].shift() + betdata['betPayout'] - betdata['betWager']), 1, 0)"
      ],
      "metadata": {
        "id": "t3tG6g5Zkm4n"
      },
      "execution_count": null,
      "outputs": []
    },
    {
      "cell_type": "code",
      "source": [
        "betdata['withdrew_funds'] = betdata['withdrew_funds'].astype('category')"
      ],
      "metadata": {
        "id": "AJNnn90LioS_"
      },
      "execution_count": null,
      "outputs": []
    },
    {
      "cell_type": "code",
      "source": [
        "a = betdata[betdata['withdrew_funds'] == 1].tail(2)[['gameutctime', 'betWager', 'betPayout', 'sessionBalance', 'userid_masked',\t'sessionid_masked', 'withdrew_funds']]\n",
        "b = betdata[betdata['withdrew_funds'] == 0].head(2)[['gameutctime', 'betWager', 'betPayout', 'sessionBalance', 'userid_masked',\t'sessionid_masked', 'withdrew_funds']]\n",
        "pd.concat([a, b]).reset_index(drop = True)"
      ],
      "metadata": {
        "colab": {
          "base_uri": "https://localhost:8080/",
          "height": 174
        },
        "id": "3qP_pIoBkm7C",
        "outputId": "ec873f50-b670-4c4a-e0eb-cbbd47d505d9"
      },
      "execution_count": null,
      "outputs": [
        {
          "output_type": "execute_result",
          "data": {
            "text/plain": [
              "              gameutctime  betWager  betPayout  sessionBalance  userid_masked  \\\n",
              "0 2020-05-23 20:49:53.267      2.25        0.0            7.30       23453762   \n",
              "1 2020-05-23 20:50:02.753      2.25        0.0            0.55       23453762   \n",
              "2 2020-05-21 13:13:36.470      2.25        0.0          309.97           5340   \n",
              "3 2020-05-21 13:13:37.860      2.25        0.0          307.72           5340   \n",
              "\n",
              "   sessionid_masked withdrew_funds  \n",
              "0         424576370              1  \n",
              "1         424576370              1  \n",
              "2         846050959              0  \n",
              "3         846050959              0  "
            ],
            "text/html": [
              "\n",
              "  <div id=\"df-c1873fae-980e-4a1c-b0bc-1b90da28fd8e\">\n",
              "    <div class=\"colab-df-container\">\n",
              "      <div>\n",
              "<style scoped>\n",
              "    .dataframe tbody tr th:only-of-type {\n",
              "        vertical-align: middle;\n",
              "    }\n",
              "\n",
              "    .dataframe tbody tr th {\n",
              "        vertical-align: top;\n",
              "    }\n",
              "\n",
              "    .dataframe thead th {\n",
              "        text-align: right;\n",
              "    }\n",
              "</style>\n",
              "<table border=\"1\" class=\"dataframe\">\n",
              "  <thead>\n",
              "    <tr style=\"text-align: right;\">\n",
              "      <th></th>\n",
              "      <th>gameutctime</th>\n",
              "      <th>betWager</th>\n",
              "      <th>betPayout</th>\n",
              "      <th>sessionBalance</th>\n",
              "      <th>userid_masked</th>\n",
              "      <th>sessionid_masked</th>\n",
              "      <th>withdrew_funds</th>\n",
              "    </tr>\n",
              "  </thead>\n",
              "  <tbody>\n",
              "    <tr>\n",
              "      <th>0</th>\n",
              "      <td>2020-05-23 20:49:53.267</td>\n",
              "      <td>2.25</td>\n",
              "      <td>0.0</td>\n",
              "      <td>7.30</td>\n",
              "      <td>23453762</td>\n",
              "      <td>424576370</td>\n",
              "      <td>1</td>\n",
              "    </tr>\n",
              "    <tr>\n",
              "      <th>1</th>\n",
              "      <td>2020-05-23 20:50:02.753</td>\n",
              "      <td>2.25</td>\n",
              "      <td>0.0</td>\n",
              "      <td>0.55</td>\n",
              "      <td>23453762</td>\n",
              "      <td>424576370</td>\n",
              "      <td>1</td>\n",
              "    </tr>\n",
              "    <tr>\n",
              "      <th>2</th>\n",
              "      <td>2020-05-21 13:13:36.470</td>\n",
              "      <td>2.25</td>\n",
              "      <td>0.0</td>\n",
              "      <td>309.97</td>\n",
              "      <td>5340</td>\n",
              "      <td>846050959</td>\n",
              "      <td>0</td>\n",
              "    </tr>\n",
              "    <tr>\n",
              "      <th>3</th>\n",
              "      <td>2020-05-21 13:13:37.860</td>\n",
              "      <td>2.25</td>\n",
              "      <td>0.0</td>\n",
              "      <td>307.72</td>\n",
              "      <td>5340</td>\n",
              "      <td>846050959</td>\n",
              "      <td>0</td>\n",
              "    </tr>\n",
              "  </tbody>\n",
              "</table>\n",
              "</div>\n",
              "      <button class=\"colab-df-convert\" onclick=\"convertToInteractive('df-c1873fae-980e-4a1c-b0bc-1b90da28fd8e')\"\n",
              "              title=\"Convert this dataframe to an interactive table.\"\n",
              "              style=\"display:none;\">\n",
              "        \n",
              "  <svg xmlns=\"http://www.w3.org/2000/svg\" height=\"24px\"viewBox=\"0 0 24 24\"\n",
              "       width=\"24px\">\n",
              "    <path d=\"M0 0h24v24H0V0z\" fill=\"none\"/>\n",
              "    <path d=\"M18.56 5.44l.94 2.06.94-2.06 2.06-.94-2.06-.94-.94-2.06-.94 2.06-2.06.94zm-11 1L8.5 8.5l.94-2.06 2.06-.94-2.06-.94L8.5 2.5l-.94 2.06-2.06.94zm10 10l.94 2.06.94-2.06 2.06-.94-2.06-.94-.94-2.06-.94 2.06-2.06.94z\"/><path d=\"M17.41 7.96l-1.37-1.37c-.4-.4-.92-.59-1.43-.59-.52 0-1.04.2-1.43.59L10.3 9.45l-7.72 7.72c-.78.78-.78 2.05 0 2.83L4 21.41c.39.39.9.59 1.41.59.51 0 1.02-.2 1.41-.59l7.78-7.78 2.81-2.81c.8-.78.8-2.07 0-2.86zM5.41 20L4 18.59l7.72-7.72 1.47 1.35L5.41 20z\"/>\n",
              "  </svg>\n",
              "      </button>\n",
              "      \n",
              "  <style>\n",
              "    .colab-df-container {\n",
              "      display:flex;\n",
              "      flex-wrap:wrap;\n",
              "      gap: 12px;\n",
              "    }\n",
              "\n",
              "    .colab-df-convert {\n",
              "      background-color: #E8F0FE;\n",
              "      border: none;\n",
              "      border-radius: 50%;\n",
              "      cursor: pointer;\n",
              "      display: none;\n",
              "      fill: #1967D2;\n",
              "      height: 32px;\n",
              "      padding: 0 0 0 0;\n",
              "      width: 32px;\n",
              "    }\n",
              "\n",
              "    .colab-df-convert:hover {\n",
              "      background-color: #E2EBFA;\n",
              "      box-shadow: 0px 1px 2px rgba(60, 64, 67, 0.3), 0px 1px 3px 1px rgba(60, 64, 67, 0.15);\n",
              "      fill: #174EA6;\n",
              "    }\n",
              "\n",
              "    [theme=dark] .colab-df-convert {\n",
              "      background-color: #3B4455;\n",
              "      fill: #D2E3FC;\n",
              "    }\n",
              "\n",
              "    [theme=dark] .colab-df-convert:hover {\n",
              "      background-color: #434B5C;\n",
              "      box-shadow: 0px 1px 3px 1px rgba(0, 0, 0, 0.15);\n",
              "      filter: drop-shadow(0px 1px 2px rgba(0, 0, 0, 0.3));\n",
              "      fill: #FFFFFF;\n",
              "    }\n",
              "  </style>\n",
              "\n",
              "      <script>\n",
              "        const buttonEl =\n",
              "          document.querySelector('#df-c1873fae-980e-4a1c-b0bc-1b90da28fd8e button.colab-df-convert');\n",
              "        buttonEl.style.display =\n",
              "          google.colab.kernel.accessAllowed ? 'block' : 'none';\n",
              "\n",
              "        async function convertToInteractive(key) {\n",
              "          const element = document.querySelector('#df-c1873fae-980e-4a1c-b0bc-1b90da28fd8e');\n",
              "          const dataTable =\n",
              "            await google.colab.kernel.invokeFunction('convertToInteractive',\n",
              "                                                     [key], {});\n",
              "          if (!dataTable) return;\n",
              "\n",
              "          const docLinkHtml = 'Like what you see? Visit the ' +\n",
              "            '<a target=\"_blank\" href=https://colab.research.google.com/notebooks/data_table.ipynb>data table notebook</a>'\n",
              "            + ' to learn more about interactive tables.';\n",
              "          element.innerHTML = '';\n",
              "          dataTable['output_type'] = 'display_data';\n",
              "          await google.colab.output.renderOutput(dataTable, element);\n",
              "          const docLink = document.createElement('div');\n",
              "          docLink.innerHTML = docLinkHtml;\n",
              "          element.appendChild(docLink);\n",
              "        }\n",
              "      </script>\n",
              "    </div>\n",
              "  </div>\n",
              "  "
            ]
          },
          "metadata": {},
          "execution_count": 48
        }
      ]
    },
    {
      "cell_type": "markdown",
      "source": [
        "**Session ending bet percentage based on whether the player withdrew funds**"
      ],
      "metadata": {
        "id": "diffM9jiPPX_"
      }
    },
    {
      "cell_type": "code",
      "source": [
        "new_df = betdata.groupby(\"withdrew_funds\")[\"session_ending_bet\"].value_counts(normalize = True)\n",
        "new_df = new_df.mul(100).rename('Percent').reset_index()\n",
        "new_df.rename(columns = {\"level_1\": \"session_ending_bet\"}, inplace = True)"
      ],
      "metadata": {
        "id": "Xx2hqh7Odg2D"
      },
      "execution_count": null,
      "outputs": []
    },
    {
      "cell_type": "code",
      "source": [
        "g = sns.catplot(x = \"withdrew_funds\", y = 'Percent', hue = \"session_ending_bet\", kind = 'bar', data = new_df, legend = False)\n",
        "g.ax.set_ylim(0, 100)\n",
        "plt.title(\"Session ending bet percentage based on whether the player withdrew funds\", pad = 20)\n",
        "plt.ylabel(\"Percentage\")\n",
        "plt.xticks([0, 1], ['No', 'Yes'])\n",
        "L = plt.legend(title = \"session_ending_bet\", bbox_to_anchor = (1.04, 1))\n",
        "L.get_texts()[0].set_text('No')\n",
        "L.get_texts()[1].set_text('Yes')\n",
        "plt.show()"
      ],
      "metadata": {
        "colab": {
          "base_uri": "https://localhost:8080/",
          "height": 395
        },
        "id": "kUEoowphdg4o",
        "outputId": "65b3e38c-f84a-4e68-d65b-69f409810827"
      },
      "execution_count": null,
      "outputs": [
        {
          "output_type": "display_data",
          "data": {
            "text/plain": [
              "<Figure size 360x360 with 1 Axes>"
            ],
            "image/png": "[encoded data removed]"
          },
          "metadata": {}
        }
      ]
    },
    {
      "cell_type": "markdown",
      "source": [
        "**Chi-Square Test for Independence Between Categorical Variables**\n",
        "- Null hypothesis: There is no significant relationship between 'withdrew_funds' and 'session_ending_bet'.\n",
        "- Alternative hypothesis: There is a significant relationship between 'lowered_wager' and 'session_ending_bet'.\n",
        "\n",
        "Significance level (α): 0.05\n",
        "\n",
        "Since the p-value (0.0) is smaller than our chosen significance level (α = 0.05), there is sufficient evidence to reject the null hypothesis and conclude that there is a significant relationship between 'withdrew_funds' and 'session_ending_bet'."
      ],
      "metadata": {
        "id": "Vy37UibHP6zr"
      }
    },
    {
      "cell_type": "code",
      "source": [
        "ct = pd.crosstab(betdata.session_ending_bet, betdata.withdrew_funds, margins = True)\n",
        "obs = np.array([ct.iloc[0].values,\n",
        "                ct.iloc[1].values])\n",
        "print(\"X² statistic: {}\\np-value: {}\".format(round(scipy.stats.chi2_contingency(obs, correction = False)[0], 2),\n",
        "                                             scipy.stats.chi2_contingency(obs, correction = False)[1]))"
      ],
      "metadata": {
        "colab": {
          "base_uri": "https://localhost:8080/"
        },
        "outputId": "253c7566-c5c3-4aee-9ea6-349b322f1b64",
        "id": "SEDCmkaiP6zy"
      },
      "execution_count": null,
      "outputs": [
        {
          "output_type": "stream",
          "name": "stdout",
          "text": [
            "X² statistic: 13917.34\n",
            "p-value: 0.0\n"
          ]
        }
      ]
    },
    {
      "cell_type": "markdown",
      "source": [
        "## **Engineered feature: 'loss_streak_counter'** \n",
        "- Indicates the current loss streak of the player within a session\n",
        "- Might affect the morale of the player and tendency to end the session\n",
        "  - Luck has run out and should come back another time\n",
        "  - Long loss streak can reduce session balance to an amount low enough to justify leaving"
      ],
      "metadata": {
        "id": "3sR4su0mPRth"
      }
    },
    {
      "cell_type": "code",
      "source": [
        "betdata['loss_streak_counter'] = betdata['lost_money'].astype('int').groupby(betdata['sessionid_masked']).apply(lambda x: x * (x.groupby((x != x.shift()).cumsum()).cumcount() + 1))"
      ],
      "metadata": {
        "id": "Ug484ZiGgCYp"
      },
      "execution_count": null,
      "outputs": []
    },
    {
      "cell_type": "code",
      "source": [
        "betdata.head(927)[['gameutctime', 'sessionid_masked', 'lost_money', 'loss_streak_counter']]"
      ],
      "metadata": {
        "colab": {
          "base_uri": "https://localhost:8080/",
          "height": 423
        },
        "id": "StqNnOojdg68",
        "outputId": "5d7d9285-3f25-411a-adb9-8eeae3690545"
      },
      "execution_count": null,
      "outputs": [
        {
          "output_type": "execute_result",
          "data": {
            "text/plain": [
              "                gameutctime  sessionid_masked lost_money  loss_streak_counter\n",
              "0   2020-05-21 13:13:36.470         846050959          1                    1\n",
              "1   2020-05-21 13:13:37.860         846050959          1                    2\n",
              "2   2020-05-21 13:13:39.750         846050959          1                    3\n",
              "3   2020-05-21 13:13:41.567         846050959          1                    4\n",
              "4   2020-05-21 13:13:43.810         846050959          1                    5\n",
              "..                      ...               ...        ...                  ...\n",
              "922 2020-05-21 13:57:25.510         846050959          1                    2\n",
              "923 2020-05-21 13:57:29.613         846050959          1                    3\n",
              "924 2020-05-23 05:10:51.160         438576893          1                    1\n",
              "925 2020-05-23 05:10:54.017         438576893          0                    0\n",
              "926 2020-05-23 05:10:57.900         438576893          1                    1\n",
              "\n",
              "[927 rows x 4 columns]"
            ],
            "text/html": [
              "\n",
              "  <div id=\"df-6ae2d03f-588d-44b3-8b58-7fb82f983ca1\">\n",
              "    <div class=\"colab-df-container\">\n",
              "      <div>\n",
              "<style scoped>\n",
              "    .dataframe tbody tr th:only-of-type {\n",
              "        vertical-align: middle;\n",
              "    }\n",
              "\n",
              "    .dataframe tbody tr th {\n",
              "        vertical-align: top;\n",
              "    }\n",
              "\n",
              "    .dataframe thead th {\n",
              "        text-align: right;\n",
              "    }\n",
              "</style>\n",
              "<table border=\"1\" class=\"dataframe\">\n",
              "  <thead>\n",
              "    <tr style=\"text-align: right;\">\n",
              "      <th></th>\n",
              "      <th>gameutctime</th>\n",
              "      <th>sessionid_masked</th>\n",
              "      <th>lost_money</th>\n",
              "      <th>loss_streak_counter</th>\n",
              "    </tr>\n",
              "  </thead>\n",
              "  <tbody>\n",
              "    <tr>\n",
              "      <th>0</th>\n",
              "      <td>2020-05-21 13:13:36.470</td>\n",
              "      <td>846050959</td>\n",
              "      <td>1</td>\n",
              "      <td>1</td>\n",
              "    </tr>\n",
              "    <tr>\n",
              "      <th>1</th>\n",
              "      <td>2020-05-21 13:13:37.860</td>\n",
              "      <td>846050959</td>\n",
              "      <td>1</td>\n",
              "      <td>2</td>\n",
              "    </tr>\n",
              "    <tr>\n",
              "      <th>2</th>\n",
              "      <td>2020-05-21 13:13:39.750</td>\n",
              "      <td>846050959</td>\n",
              "      <td>1</td>\n",
              "      <td>3</td>\n",
              "    </tr>\n",
              "    <tr>\n",
              "      <th>3</th>\n",
              "      <td>2020-05-21 13:13:41.567</td>\n",
              "      <td>846050959</td>\n",
              "      <td>1</td>\n",
              "      <td>4</td>\n",
              "    </tr>\n",
              "    <tr>\n",
              "      <th>4</th>\n",
              "      <td>2020-05-21 13:13:43.810</td>\n",
              "      <td>846050959</td>\n",
              "      <td>1</td>\n",
              "      <td>5</td>\n",
              "    </tr>\n",
              "    <tr>\n",
              "      <th>...</th>\n",
              "      <td>...</td>\n",
              "      <td>...</td>\n",
              "      <td>...</td>\n",
              "      <td>...</td>\n",
              "    </tr>\n",
              "    <tr>\n",
              "      <th>922</th>\n",
              "      <td>2020-05-21 13:57:25.510</td>\n",
              "      <td>846050959</td>\n",
              "      <td>1</td>\n",
              "      <td>2</td>\n",
              "    </tr>\n",
              "    <tr>\n",
              "      <th>923</th>\n",
              "      <td>2020-05-21 13:57:29.613</td>\n",
              "      <td>846050959</td>\n",
              "      <td>1</td>\n",
              "      <td>3</td>\n",
              "    </tr>\n",
              "    <tr>\n",
              "      <th>924</th>\n",
              "      <td>2020-05-23 05:10:51.160</td>\n",
              "      <td>438576893</td>\n",
              "      <td>1</td>\n",
              "      <td>1</td>\n",
              "    </tr>\n",
              "    <tr>\n",
              "      <th>925</th>\n",
              "      <td>2020-05-23 05:10:54.017</td>\n",
              "      <td>438576893</td>\n",
              "      <td>0</td>\n",
              "      <td>0</td>\n",
              "    </tr>\n",
              "    <tr>\n",
              "      <th>926</th>\n",
              "      <td>2020-05-23 05:10:57.900</td>\n",
              "      <td>438576893</td>\n",
              "      <td>1</td>\n",
              "      <td>1</td>\n",
              "    </tr>\n",
              "  </tbody>\n",
              "</table>\n",
              "<p>927 rows × 4 columns</p>\n",
              "</div>\n",
              "      <button class=\"colab-df-convert\" onclick=\"convertToInteractive('df-6ae2d03f-588d-44b3-8b58-7fb82f983ca1')\"\n",
              "              title=\"Convert this dataframe to an interactive table.\"\n",
              "              style=\"display:none;\">\n",
              "        \n",
              "  <svg xmlns=\"http://www.w3.org/2000/svg\" height=\"24px\"viewBox=\"0 0 24 24\"\n",
              "       width=\"24px\">\n",
              "    <path d=\"M0 0h24v24H0V0z\" fill=\"none\"/>\n",
              "    <path d=\"M18.56 5.44l.94 2.06.94-2.06 2.06-.94-2.06-.94-.94-2.06-.94 2.06-2.06.94zm-11 1L8.5 8.5l.94-2.06 2.06-.94-2.06-.94L8.5 2.5l-.94 2.06-2.06.94zm10 10l.94 2.06.94-2.06 2.06-.94-2.06-.94-.94-2.06-.94 2.06-2.06.94z\"/><path d=\"M17.41 7.96l-1.37-1.37c-.4-.4-.92-.59-1.43-.59-.52 0-1.04.2-1.43.59L10.3 9.45l-7.72 7.72c-.78.78-.78 2.05 0 2.83L4 21.41c.39.39.9.59 1.41.59.51 0 1.02-.2 1.41-.59l7.78-7.78 2.81-2.81c.8-.78.8-2.07 0-2.86zM5.41 20L4 18.59l7.72-7.72 1.47 1.35L5.41 20z\"/>\n",
              "  </svg>\n",
              "      </button>\n",
              "      \n",
              "  <style>\n",
              "    .colab-df-container {\n",
              "      display:flex;\n",
              "      flex-wrap:wrap;\n",
              "      gap: 12px;\n",
              "    }\n",
              "\n",
              "    .colab-df-convert {\n",
              "      background-color: #E8F0FE;\n",
              "      border: none;\n",
              "      border-radius: 50%;\n",
              "      cursor: pointer;\n",
              "      display: none;\n",
              "      fill: #1967D2;\n",
              "      height: 32px;\n",
              "      padding: 0 0 0 0;\n",
              "      width: 32px;\n",
              "    }\n",
              "\n",
              "    .colab-df-convert:hover {\n",
              "      background-color: #E2EBFA;\n",
              "      box-shadow: 0px 1px 2px rgba(60, 64, 67, 0.3), 0px 1px 3px 1px rgba(60, 64, 67, 0.15);\n",
              "      fill: #174EA6;\n",
              "    }\n",
              "\n",
              "    [theme=dark] .colab-df-convert {\n",
              "      background-color: #3B4455;\n",
              "      fill: #D2E3FC;\n",
              "    }\n",
              "\n",
              "    [theme=dark] .colab-df-convert:hover {\n",
              "      background-color: #434B5C;\n",
              "      box-shadow: 0px 1px 3px 1px rgba(0, 0, 0, 0.15);\n",
              "      filter: drop-shadow(0px 1px 2px rgba(0, 0, 0, 0.3));\n",
              "      fill: #FFFFFF;\n",
              "    }\n",
              "  </style>\n",
              "\n",
              "      <script>\n",
              "        const buttonEl =\n",
              "          document.querySelector('#df-6ae2d03f-588d-44b3-8b58-7fb82f983ca1 button.colab-df-convert');\n",
              "        buttonEl.style.display =\n",
              "          google.colab.kernel.accessAllowed ? 'block' : 'none';\n",
              "\n",
              "        async function convertToInteractive(key) {\n",
              "          const element = document.querySelector('#df-6ae2d03f-588d-44b3-8b58-7fb82f983ca1');\n",
              "          const dataTable =\n",
              "            await google.colab.kernel.invokeFunction('convertToInteractive',\n",
              "                                                     [key], {});\n",
              "          if (!dataTable) return;\n",
              "\n",
              "          const docLinkHtml = 'Like what you see? Visit the ' +\n",
              "            '<a target=\"_blank\" href=https://colab.research.google.com/notebooks/data_table.ipynb>data table notebook</a>'\n",
              "            + ' to learn more about interactive tables.';\n",
              "          element.innerHTML = '';\n",
              "          dataTable['output_type'] = 'display_data';\n",
              "          await google.colab.output.renderOutput(dataTable, element);\n",
              "          const docLink = document.createElement('div');\n",
              "          docLink.innerHTML = docLinkHtml;\n",
              "          element.appendChild(docLink);\n",
              "        }\n",
              "      </script>\n",
              "    </div>\n",
              "  </div>\n",
              "  "
            ]
          },
          "metadata": {},
          "execution_count": 53
        }
      ]
    },
    {
      "cell_type": "markdown",
      "source": [
        "**Distribution of loss streak counter based on whether the session ended (outliers hidden)**\n",
        "- Visible higher loss streaks encountered when the bet is the last for the session as compared to when it's not \n",
        "- Session ending bets have median loss streaks of around 5 with half of them ranging between 2-8."
      ],
      "metadata": {
        "id": "3pFSVRGWlRle"
      }
    },
    {
      "cell_type": "code",
      "source": [
        "sns.boxplot(x = 'session_ending_bet', y = 'loss_streak_counter', data = betdata, showfliers = False)\n",
        "plt.title(\"Distribution of loss streak counter based on whether the session ended (outliers hidden)\")\n",
        "plt.xticks([0, 1], ['No', 'Yes'])\n",
        "plt.show()"
      ],
      "metadata": {
        "colab": {
          "base_uri": "https://localhost:8080/",
          "height": 410
        },
        "id": "KDZefE_Cdg9g",
        "outputId": "7d9a5f76-02fc-4a39-fa62-a5dd2c2f91b4"
      },
      "execution_count": null,
      "outputs": [
        {
          "output_type": "display_data",
          "data": {
            "text/plain": [
              "<Figure size 1080x432 with 1 Axes>"
            ],
            "image/png": "[encoded data removed]"
          },
          "metadata": {}
        }
      ]
    },
    {
      "cell_type": "markdown",
      "source": [
        "**Welch’s t-test (used to test if the means of two populations are equal)**\n",
        "- Null hypothesis: The mean loss streak of session-ending bet is equal to the mean loss streak of non session-ending bet.\n",
        "- Alternative hypothesis: The mean loss streak of session-ending bet is not equal to the mean loss streak of non session-ending bet.\n",
        "\n",
        "Significance level (α): 0.05\n",
        "\n",
        "t-score: 45.39200744605106\n",
        "\n",
        "Since the p-value (0.0) is smaller than our chosen significance level (α = 0.05), there is sufficient evidence to reject the null hypothesis and conclude that the mean loss streak of session-ending bet is not equal to the mean loss streak of non session-ending bet."
      ],
      "metadata": {
        "id": "2wichTxxVS71"
      }
    },
    {
      "cell_type": "code",
      "source": [
        "session_ended = betdata[(betdata['session_ending_bet'] == 1)]\n",
        "session_not_ended = betdata[(betdata['session_ending_bet'] == 0)]"
      ],
      "metadata": {
        "id": "SdrfBuZlV3Pp"
      },
      "execution_count": null,
      "outputs": []
    },
    {
      "cell_type": "code",
      "source": [
        "stats.ttest_ind(session_ended['loss_streak_counter'], session_not_ended['loss_streak_counter'], equal_var = False)"
      ],
      "metadata": {
        "colab": {
          "base_uri": "https://localhost:8080/"
        },
        "outputId": "46c6143d-ee3b-40a4-e9ba-fb45295ab2c9",
        "id": "VkxnDbJ7VS72"
      },
      "execution_count": null,
      "outputs": [
        {
          "output_type": "execute_result",
          "data": {
            "text/plain": [
              "Ttest_indResult(statistic=45.39200744605106, pvalue=0.0)"
            ]
          },
          "metadata": {},
          "execution_count": 56
        }
      ]
    },
    {
      "cell_type": "markdown",
      "source": [
        "# **Explanatory Modeling (Why is this the last bet?)**\n",
        "- Interested in identifying variables that are important and have a statistically significant relationship with an outcome (end session)\n",
        "- Key steps\n",
        "  - Fitting potentially theoretically important predictors\n",
        "  - Checking for statistical significance\n",
        "  - Evaluating effect sizes\n",
        "  - Running diagnostics\n",
        "- Train-test split is not required"
      ],
      "metadata": {
        "id": "QvEP6sAwCo9a"
      }
    },
    {
      "cell_type": "markdown",
      "source": [
        "## **Logistic regression**\n"
      ],
      "metadata": {
        "id": "1QtPFzcTDU88"
      }
    },
    {
      "cell_type": "code",
      "source": [
        "import statsmodels.api as sm"
      ],
      "metadata": {
        "id": "ofoFB9osh1ZA"
      },
      "execution_count": null,
      "outputs": []
    },
    {
      "cell_type": "code",
      "source": [
        "betdata.dtypes"
      ],
      "metadata": {
        "colab": {
          "base_uri": "https://localhost:8080/"
        },
        "id": "L4vTxDKXicMu",
        "outputId": "0e9da749-db70-4db5-c3c0-967b200f9e80"
      },
      "execution_count": null,
      "outputs": [
        {
          "output_type": "execute_result",
          "data": {
            "text/plain": [
              "gameutctime            datetime64[ns]\n",
              "betWager                      float64\n",
              "betPayout                     float64\n",
              "sessionBalance                float64\n",
              "userid_masked                   int64\n",
              "sessionid_masked                int64\n",
              "session_ending_bet           category\n",
              "lost_money                   category\n",
              "lowered_wager                category\n",
              "sess_len_min                    int64\n",
              "withdrew_funds               category\n",
              "loss_streak_counter             int64\n",
              "dtype: object"
            ]
          },
          "metadata": {},
          "execution_count": 58
        }
      ]
    },
    {
      "cell_type": "code",
      "source": [
        "X = sm.add_constant(betdata[['lost_money', 'lowered_wager', 'sess_len_min', 'withdrew_funds', 'loss_streak_counter']])\n",
        "y = betdata['session_ending_bet']"
      ],
      "metadata": {
        "id": "nd9aphNCiFlo"
      },
      "execution_count": null,
      "outputs": []
    },
    {
      "cell_type": "markdown",
      "source": [
        "- Coefficient is interpreted as the expected change (increase/decrease) of the log odds as X changes, while controlling for the effects of other X variables\n",
        "  - For categorical variables, the log odds is calculated with respect to the reference category\n",
        "    - Here, the reference category is the label \"0\". Since our categorical variables are all binary, the coefficient is essentially the expected increase/decrease in the log odds of the session ending as we switch X from label \"0\" to label \"1\".\n",
        "  - For continuous variables, the interpretation is simpler\n",
        "    - For every 1 unit increase in X, the coefficient is the expected increase/decrease in the log odds of the session ending.\n",
        "- \"z values\" are the ratio of the coefficient estimate (β) divided by the standard error of the estimator\n",
        "  - A Z-value that is sufficiently far from 0 indicates that the coefficient estimate is both large and precise enough to be statistically different from 0"
      ],
      "metadata": {
        "id": "gAdCnLMYJmA2"
      }
    },
    {
      "cell_type": "code",
      "source": [
        "log_reg_explain = sm.Logit(y, X)\n",
        "log_reg_explain_result = log_reg_explain.fit()\n",
        "print(log_reg_explain_result.summary2())"
      ],
      "metadata": {
        "id": "2X9SDuJZdhQE",
        "colab": {
          "base_uri": "https://localhost:8080/"
        },
        "outputId": "cdb60e2b-b6b4-47bd-a92b-83330748d0cb"
      },
      "execution_count": null,
      "outputs": [
        {
          "output_type": "stream",
          "name": "stdout",
          "text": [
            "Optimization terminated successfully.\n",
            "         Current function value: 0.020192\n",
            "         Iterations 12\n",
            "                           Results: Logit\n",
            "=====================================================================\n",
            "Model:               Logit              Pseudo R-squared: 0.109      \n",
            "Dependent Variable:  session_ending_bet AIC:              100464.5752\n",
            "Date:                2022-03-21 19:59   BIC:              100540.9356\n",
            "No. Observations:    2487382            Log-Likelihood:   -50226.    \n",
            "Df Model:            5                  LL-Null:          -56387.    \n",
            "Df Residuals:        2487376            LLR p-value:      0.0000     \n",
            "Converged:           1.0000             Scale:            1.0000     \n",
            "No. Iterations:      12.0000                                         \n",
            "---------------------------------------------------------------------\n",
            "                     Coef.  Std.Err.     z     P>|z|   [0.025  0.975]\n",
            "---------------------------------------------------------------------\n",
            "const               -6.7218   0.0418 -160.6989 0.0000 -6.8038 -6.6398\n",
            "lost_money           0.9524   0.0441   21.6149 0.0000  0.8661  1.0388\n",
            "lowered_wager        2.4218   0.0443   54.6317 0.0000  2.3349  2.5087\n",
            "sess_len_min        -0.0108   0.0003  -32.9289 0.0000 -0.0115 -0.0102\n",
            "withdrew_funds       2.2797   0.0290   78.6509 0.0000  2.2229  2.3365\n",
            "loss_streak_counter  0.0853   0.0022   39.4154 0.0000  0.0810  0.0895\n",
            "=====================================================================\n",
            "\n"
          ]
        }
      ]
    },
    {
      "cell_type": "markdown",
      "source": [
        "- Odds Ratio Confidence Interval of Logistic Regression Model\n",
        "  - If the 95% confidence interval for an odds ratio includes 1, it means that the results are not statistically significant\n",
        "  - The odds of the event happening are the same in both groups (e.g. bet that lost money vs bet that did not lost money)\n",
        "- Odds Ratio = (odds of the event in the exposed group) / (odds of the event in the non-exposed group)\n",
        "  - Indicates the practical significance which refers to the effect size\n",
        "  - Results are practically significant when the difference is large enough to be meaningful in real life (based on domain knowledge)\n",
        "- Interpretation:\n",
        "  - lost_money: The odds of a session ending when a player loses money is 2.59 times greater than when a player does not lose money.  \t\n",
        "  - lowered_wager: The odds of a session ending when a player lowers wager is 11.27 times greater than when a player does not lower wager.  \t\n",
        "  - sess_len_min: For every 1 minute increase in the session length, we can expect a 1.1% decrease in the odds of a session ending. \n",
        "  - withdrew_funds: The odds of a session ending when a player withdraws fund is 9.77 times greater than when a player does not withdraw fund.  \n",
        "  - loss_streak_counter: For every 1 additional count of loss streak, we can expect a 8.9% increase in the odds of a session ending. "
      ],
      "metadata": {
        "id": "LKk9mQoYRwql"
      }
    },
    {
      "cell_type": "code",
      "source": [
        "params = log_reg_explain_result.params\n",
        "conf = log_reg_explain_result.conf_int()\n",
        "conf['Odds Ratio'] = params\n",
        "conf.columns = ['5%', '95%', 'Odds Ratio']\n",
        "pd.DataFrame(np.exp(conf)).iloc[1:, ]"
      ],
      "metadata": {
        "colab": {
          "base_uri": "https://localhost:8080/",
          "height": 206
        },
        "id": "btL1dzKXRgDa",
        "outputId": "87ae749d-b5a9-425c-e8db-6e2dbb1c9acd"
      },
      "execution_count": null,
      "outputs": [
        {
          "output_type": "execute_result",
          "data": {
            "text/plain": [
              "                            5%        95%  Odds Ratio\n",
              "lost_money            2.377556   2.825826    2.592018\n",
              "lowered_wager        10.328266  12.288341   11.265755\n",
              "sess_len_min          0.988572   0.989849    0.989210\n",
              "withdrew_funds        9.234265  10.345398    9.774055\n",
              "loss_streak_counter   1.084406   1.093641    1.089014"
            ],
            "text/html": [
              "\n",
              "  <div id=\"df-f20b075c-20f8-4606-90dc-4c0e2f5f6a98\">\n",
              "    <div class=\"colab-df-container\">\n",
              "      <div>\n",
              "<style scoped>\n",
              "    .dataframe tbody tr th:only-of-type {\n",
              "        vertical-align: middle;\n",
              "    }\n",
              "\n",
              "    .dataframe tbody tr th {\n",
              "        vertical-align: top;\n",
              "    }\n",
              "\n",
              "    .dataframe thead th {\n",
              "        text-align: right;\n",
              "    }\n",
              "</style>\n",
              "<table border=\"1\" class=\"dataframe\">\n",
              "  <thead>\n",
              "    <tr style=\"text-align: right;\">\n",
              "      <th></th>\n",
              "      <th>5%</th>\n",
              "      <th>95%</th>\n",
              "      <th>Odds Ratio</th>\n",
              "    </tr>\n",
              "  </thead>\n",
              "  <tbody>\n",
              "    <tr>\n",
              "      <th>lost_money</th>\n",
              "      <td>2.377556</td>\n",
              "      <td>2.825826</td>\n",
              "      <td>2.592018</td>\n",
              "    </tr>\n",
              "    <tr>\n",
              "      <th>lowered_wager</th>\n",
              "      <td>10.328266</td>\n",
              "      <td>12.288341</td>\n",
              "      <td>11.265755</td>\n",
              "    </tr>\n",
              "    <tr>\n",
              "      <th>sess_len_min</th>\n",
              "      <td>0.988572</td>\n",
              "      <td>0.989849</td>\n",
              "      <td>0.989210</td>\n",
              "    </tr>\n",
              "    <tr>\n",
              "      <th>withdrew_funds</th>\n",
              "      <td>9.234265</td>\n",
              "      <td>10.345398</td>\n",
              "      <td>9.774055</td>\n",
              "    </tr>\n",
              "    <tr>\n",
              "      <th>loss_streak_counter</th>\n",
              "      <td>1.084406</td>\n",
              "      <td>1.093641</td>\n",
              "      <td>1.089014</td>\n",
              "    </tr>\n",
              "  </tbody>\n",
              "</table>\n",
              "</div>\n",
              "      <button class=\"colab-df-convert\" onclick=\"convertToInteractive('df-f20b075c-20f8-4606-90dc-4c0e2f5f6a98')\"\n",
              "              title=\"Convert this dataframe to an interactive table.\"\n",
              "              style=\"display:none;\">\n",
              "        \n",
              "  <svg xmlns=\"http://www.w3.org/2000/svg\" height=\"24px\"viewBox=\"0 0 24 24\"\n",
              "       width=\"24px\">\n",
              "    <path d=\"M0 0h24v24H0V0z\" fill=\"none\"/>\n",
              "    <path d=\"M18.56 5.44l.94 2.06.94-2.06 2.06-.94-2.06-.94-.94-2.06-.94 2.06-2.06.94zm-11 1L8.5 8.5l.94-2.06 2.06-.94-2.06-.94L8.5 2.5l-.94 2.06-2.06.94zm10 10l.94 2.06.94-2.06 2.06-.94-2.06-.94-.94-2.06-.94 2.06-2.06.94z\"/><path d=\"M17.41 7.96l-1.37-1.37c-.4-.4-.92-.59-1.43-.59-.52 0-1.04.2-1.43.59L10.3 9.45l-7.72 7.72c-.78.78-.78 2.05 0 2.83L4 21.41c.39.39.9.59 1.41.59.51 0 1.02-.2 1.41-.59l7.78-7.78 2.81-2.81c.8-.78.8-2.07 0-2.86zM5.41 20L4 18.59l7.72-7.72 1.47 1.35L5.41 20z\"/>\n",
              "  </svg>\n",
              "      </button>\n",
              "      \n",
              "  <style>\n",
              "    .colab-df-container {\n",
              "      display:flex;\n",
              "      flex-wrap:wrap;\n",
              "      gap: 12px;\n",
              "    }\n",
              "\n",
              "    .colab-df-convert {\n",
              "      background-color: #E8F0FE;\n",
              "      border: none;\n",
              "      border-radius: 50%;\n",
              "      cursor: pointer;\n",
              "      display: none;\n",
              "      fill: #1967D2;\n",
              "      height: 32px;\n",
              "      padding: 0 0 0 0;\n",
              "      width: 32px;\n",
              "    }\n",
              "\n",
              "    .colab-df-convert:hover {\n",
              "      background-color: #E2EBFA;\n",
              "      box-shadow: 0px 1px 2px rgba(60, 64, 67, 0.3), 0px 1px 3px 1px rgba(60, 64, 67, 0.15);\n",
              "      fill: #174EA6;\n",
              "    }\n",
              "\n",
              "    [theme=dark] .colab-df-convert {\n",
              "      background-color: #3B4455;\n",
              "      fill: #D2E3FC;\n",
              "    }\n",
              "\n",
              "    [theme=dark] .colab-df-convert:hover {\n",
              "      background-color: #434B5C;\n",
              "      box-shadow: 0px 1px 3px 1px rgba(0, 0, 0, 0.15);\n",
              "      filter: drop-shadow(0px 1px 2px rgba(0, 0, 0, 0.3));\n",
              "      fill: #FFFFFF;\n",
              "    }\n",
              "  </style>\n",
              "\n",
              "      <script>\n",
              "        const buttonEl =\n",
              "          document.querySelector('#df-f20b075c-20f8-4606-90dc-4c0e2f5f6a98 button.colab-df-convert');\n",
              "        buttonEl.style.display =\n",
              "          google.colab.kernel.accessAllowed ? 'block' : 'none';\n",
              "\n",
              "        async function convertToInteractive(key) {\n",
              "          const element = document.querySelector('#df-f20b075c-20f8-4606-90dc-4c0e2f5f6a98');\n",
              "          const dataTable =\n",
              "            await google.colab.kernel.invokeFunction('convertToInteractive',\n",
              "                                                     [key], {});\n",
              "          if (!dataTable) return;\n",
              "\n",
              "          const docLinkHtml = 'Like what you see? Visit the ' +\n",
              "            '<a target=\"_blank\" href=https://colab.research.google.com/notebooks/data_table.ipynb>data table notebook</a>'\n",
              "            + ' to learn more about interactive tables.';\n",
              "          element.innerHTML = '';\n",
              "          dataTable['output_type'] = 'display_data';\n",
              "          await google.colab.output.renderOutput(dataTable, element);\n",
              "          const docLink = document.createElement('div');\n",
              "          docLink.innerHTML = docLinkHtml;\n",
              "          element.appendChild(docLink);\n",
              "        }\n",
              "      </script>\n",
              "    </div>\n",
              "  </div>\n",
              "  "
            ]
          },
          "metadata": {},
          "execution_count": 61
        }
      ]
    },
    {
      "cell_type": "markdown",
      "source": [
        "- Check for the absence of multicollinearity\n",
        "- Calculate variance inflation factor (VIF)\n",
        "  - Small VIF values indicates low correlation among variables under ideal conditions\n",
        "  - The smallest possible value for VIF is 1, which indicates the complete absence of collinearity\n",
        "  - VIFs between 1 and 5 suggest that the correlation is not severe enough to warrant corrective measures\n",
        "- All the VIFs are less than 5 which are within the acceptable range"
      ],
      "metadata": {
        "id": "7aALpvBpASxb"
      }
    },
    {
      "cell_type": "code",
      "source": [
        "cov = log_reg_explain_result.cov_params()\n",
        "corr = cov / log_reg_explain_result.bse / log_reg_explain_result.bse[:, None]\n",
        "vif = np.diag(np.linalg.inv(corr.values[1:, 1:]))\n",
        "print(\"VIF\\n------------------------------\")\n",
        "for i in range(len(vif)):\n",
        "  print(corr.columns[1:].values[i], \": \", round(vif[i], 4))"
      ],
      "metadata": {
        "id": "-aLQaQA9dhRm",
        "colab": {
          "base_uri": "https://localhost:8080/"
        },
        "outputId": "af48959a-d653-4262-85f2-e80796facfdf"
      },
      "execution_count": null,
      "outputs": [
        {
          "output_type": "stream",
          "name": "stdout",
          "text": [
            "VIF\n",
            "------------------------------\n",
            "lost_money :  1.0945\n",
            "lowered_wager :  1.0501\n",
            "sess_len_min :  1.005\n",
            "withdrew_funds :  1.0529\n",
            "loss_streak_counter :  1.0958\n"
          ]
        }
      ]
    },
    {
      "cell_type": "markdown",
      "source": [
        "# **Predictive Modeling (Will this be the last bet?)**\n",
        "- Interested in finding the strongest associations between predictor variables and the outcome variable to generate good predictions (session-ending bet or not).\n",
        "- Less concerned about explaining why a variable is important in predicting the outcome (session-ending bet or not).\n",
        "- Chosen variables in the predictive model are mainly based on association power, and less on statistical significance.\n",
        "- A significant predictor based on hypothesis testing or explanatory modeling that adds no predictive benefit to the predictive model is usually excluded.\n",
        "- Predictor variables that are significant but not available at the time of the observed outcome cannot be used in the predictive model.\n",
        "- Train-test split is required to test how the trained predictive model performs on data it has never seen before."
      ],
      "metadata": {
        "id": "bIxdx8_CC-_4"
      }
    },
    {
      "cell_type": "markdown",
      "source": [
        "## **Feature selection based on decision tree variable importance**"
      ],
      "metadata": {
        "id": "RaRE2rlMDHQh"
      }
    },
    {
      "cell_type": "code",
      "source": [
        "from sklearn.model_selection import train_test_split\n",
        "from sklearn.metrics import accuracy_score, precision_score, recall_score, confusion_matrix\n",
        "from sklearn.tree import DecisionTreeClassifier"
      ],
      "metadata": {
        "id": "ND6JS5zZC_EO"
      },
      "execution_count": null,
      "outputs": []
    },
    {
      "cell_type": "markdown",
      "source": [
        "Train-test split"
      ],
      "metadata": {
        "id": "86MD3inCuq_D"
      }
    },
    {
      "cell_type": "code",
      "source": [
        "X = betdata[['lost_money', 'lowered_wager', 'sess_len_min', 'withdrew_funds', 'loss_streak_counter']]\n",
        "y = betdata['session_ending_bet']"
      ],
      "metadata": {
        "id": "xpuLDraIu39s"
      },
      "execution_count": null,
      "outputs": []
    },
    {
      "cell_type": "code",
      "source": [
        "X_train, X_test, y_train, y_test = train_test_split(X, y, test_size = 0.3, random_state = 42)"
      ],
      "metadata": {
        "id": "nnpTg1EKui36"
      },
      "execution_count": null,
      "outputs": []
    },
    {
      "cell_type": "markdown",
      "source": [
        "Check distribution of y labels in both train and test sets"
      ],
      "metadata": {
        "id": "Te6NzL7Hvtck"
      }
    },
    {
      "cell_type": "code",
      "source": [
        "y_train.value_counts()"
      ],
      "metadata": {
        "colab": {
          "base_uri": "https://localhost:8080/"
        },
        "id": "C2C1IrcJvlIU",
        "outputId": "0c9630ab-7e6e-4af1-e8f7-58a68e49c013"
      },
      "execution_count": null,
      "outputs": [
        {
          "output_type": "execute_result",
          "data": {
            "text/plain": [
              "0    1735315\n",
              "1       5852\n",
              "Name: session_ending_bet, dtype: int64"
            ]
          },
          "metadata": {},
          "execution_count": 66
        }
      ]
    },
    {
      "cell_type": "code",
      "source": [
        "y_test.value_counts()"
      ],
      "metadata": {
        "colab": {
          "base_uri": "https://localhost:8080/"
        },
        "id": "_7W3VCCDvmHX",
        "outputId": "74b5cdbe-ef55-418f-ccde-e2d4972ddd68"
      },
      "execution_count": null,
      "outputs": [
        {
          "output_type": "execute_result",
          "data": {
            "text/plain": [
              "0    743632\n",
              "1      2583\n",
              "Name: session_ending_bet, dtype: int64"
            ]
          },
          "metadata": {},
          "execution_count": 67
        }
      ]
    },
    {
      "cell_type": "markdown",
      "source": [
        "Fit and train the model. Optimize using random search."
      ],
      "metadata": {
        "id": "AUQC6jtbuwl1"
      }
    },
    {
      "cell_type": "code",
      "source": [
        "criterion = ['gini', 'entropy']\n",
        "splitter = ['best', 'random']\n",
        "max_depth = [int(x) for x in np.linspace(10, 110, num = 11)]\n",
        "max_depth.append(None)\n",
        "min_samples_split = [5, 10, 20, 30, 40, 50, 60, 70, 80, 90, 100, 120, 140, 160, 180, 200]\n",
        "min_samples_leaf = [1, 2, 4, 8, 16, 32, 64]\n",
        "class_weight = ['balanced', None]\n",
        "random_grid = {'criterion': criterion,\n",
        "               'splitter': splitter,\n",
        "               'max_depth': max_depth,\n",
        "               'min_samples_split': min_samples_split,\n",
        "               'min_samples_leaf': min_samples_leaf,\n",
        "               'class_weight': class_weight}\n",
        "print(random_grid)"
      ],
      "metadata": {
        "colab": {
          "base_uri": "https://localhost:8080/"
        },
        "id": "s9LWhU6Nz88I",
        "outputId": "11a02697-29ee-4ea1-ea2a-7e05daf28f21"
      },
      "execution_count": null,
      "outputs": [
        {
          "output_type": "stream",
          "name": "stdout",
          "text": [
            "{'criterion': ['gini', 'entropy'], 'splitter': ['best', 'random'], 'max_depth': [10, 20, 30, 40, 50, 60, 70, 80, 90, 100, 110, None], 'min_samples_split': [5, 10, 20, 30, 40, 50, 60, 70, 80, 90, 100, 120, 140, 160, 180, 200], 'min_samples_leaf': [1, 2, 4, 8, 16, 32, 64], 'class_weight': ['balanced', None]}\n"
          ]
        }
      ]
    },
    {
      "cell_type": "code",
      "source": [
        "from sklearn.model_selection import RandomizedSearchCV\n",
        "from sklearn.metrics import balanced_accuracy_score"
      ],
      "metadata": {
        "id": "0wpQaBxTzE8K"
      },
      "execution_count": null,
      "outputs": []
    },
    {
      "cell_type": "code",
      "source": [
        "# Use the random grid to search for best hyperparameters\n",
        "# First create the base model to tune\n",
        "dt = DecisionTreeClassifier(random_state = 42)\n",
        "# Random search of parameters, using 3 fold cross validation, \n",
        "# Search across 60 different combinations\n",
        "dt_random = RandomizedSearchCV(estimator = dt, \n",
        "                               param_distributions = random_grid, \n",
        "                               n_iter = 60, \n",
        "                               cv = 3, \n",
        "                               scoring = 'balanced_accuracy',\n",
        "                               verbose = 2, \n",
        "                               random_state = 42, \n",
        "                               n_jobs = -1)\n",
        "# Fit the random search decisio tree model\n",
        "dt_random.fit(X_train, y_train)"
      ],
      "metadata": {
        "colab": {
          "base_uri": "https://localhost:8080/"
        },
        "id": "Zn3KkI511cnJ",
        "outputId": "643b28b3-4628-44a4-be0b-f8afc0bb56e1"
      },
      "execution_count": null,
      "outputs": [
        {
          "output_type": "stream",
          "name": "stdout",
          "text": [
            "Fitting 3 folds for each of 60 candidates, totalling 180 fits\n"
          ]
        },
        {
          "output_type": "execute_result",
          "data": {
            "text/plain": [
              "RandomizedSearchCV(cv=3, estimator=DecisionTreeClassifier(random_state=42),\n",
              "                   n_iter=60, n_jobs=-1,\n",
              "                   param_distributions={'class_weight': ['balanced', None],\n",
              "                                        'criterion': ['gini', 'entropy'],\n",
              "                                        'max_depth': [10, 20, 30, 40, 50, 60,\n",
              "                                                      70, 80, 90, 100, 110,\n",
              "                                                      None],\n",
              "                                        'min_samples_leaf': [1, 2, 4, 8, 16, 32,\n",
              "                                                             64],\n",
              "                                        'min_samples_split': [5, 10, 20, 30, 40,\n",
              "                                                              50, 60, 70, 80,\n",
              "                                                              90, 100, 120, 140,\n",
              "                                                              160, 180, 200],\n",
              "                                        'splitter': ['best', 'random']},\n",
              "                   random_state=42, scoring='balanced_accuracy', verbose=2)"
            ]
          },
          "metadata": {},
          "execution_count": 70
        }
      ]
    },
    {
      "cell_type": "markdown",
      "source": [
        "Get the best hyperparameters from the random search and assign them to a new random forest classifier"
      ],
      "metadata": {
        "id": "rgiTZ-li3Uhq"
      }
    },
    {
      "cell_type": "code",
      "source": [
        "dt_random.best_params_"
      ],
      "metadata": {
        "colab": {
          "base_uri": "https://localhost:8080/"
        },
        "id": "mltxFJkg1tU4",
        "outputId": "d82fb518-ee7d-44f2-e675-4672c66919cc"
      },
      "execution_count": null,
      "outputs": [
        {
          "output_type": "execute_result",
          "data": {
            "text/plain": [
              "{'class_weight': 'balanced',\n",
              " 'criterion': 'entropy',\n",
              " 'max_depth': 10,\n",
              " 'min_samples_leaf': 2,\n",
              " 'min_samples_split': 160,\n",
              " 'splitter': 'random'}"
            ]
          },
          "metadata": {},
          "execution_count": 71
        }
      ]
    },
    {
      "cell_type": "code",
      "source": [
        "best_dt = dt_random.best_estimator_"
      ],
      "metadata": {
        "id": "wqcoThz625Vb"
      },
      "execution_count": null,
      "outputs": []
    },
    {
      "cell_type": "markdown",
      "source": [
        "Predict on the test set"
      ],
      "metadata": {
        "id": "2vHGClQL3hoc"
      }
    },
    {
      "cell_type": "code",
      "source": [
        "y_pred_dt = best_dt.predict(X_test)"
      ],
      "metadata": {
        "id": "F__nl2463i0o"
      },
      "execution_count": null,
      "outputs": []
    },
    {
      "cell_type": "markdown",
      "source": [
        "**Choice of Evaluation Metrics**\n",
        "- **Accuracy (TP + TN) / (TP + FP + TN + FN):** Considered a poor choice when the class distributions are highly imbalanced as it gives high scores to models which just predict the most frequent class (session does not end).\n",
        "- **Precision (TP / TP + FP):** Ability of the model to correctly identify a session ending out of all the sessions that actually ended. It is a suitable evaluation metric when the costs of false positives (wrongly predicting a session as ending) are high.\n",
        "- **Recall/Sensitivity (TP / TP + FN):** For all the sessions that actually ended, recall tells us how many we correctly identified. It is a suitable evaluation metric when the costs of false negatives (wrongly predicting a session as not ending) are high.\n",
        "- **Specificity (TN / TN + FP):** Ability of the model to correctly identify a sension not ending. It is a suitable evaluation metric when you do not want too many false alarms (predict a lot of session ending when they are not) while maintaining a relatively low false positives (wrongly predicting a session as ending). Useful when negative class overwhelms the positive class as false positives ramp up quickly if the model predicts too many positives.\n",
        "- **Balanced accuracy (Sensitivity + Specificity) / 2:** Both sensitivity and specificity are important. "
      ],
      "metadata": {
        "id": "HOyGhysKycNL"
      }
    },
    {
      "cell_type": "code",
      "source": [
        "tn, fp, fn, tp = confusion_matrix(y_test, y_pred_dt).ravel()\n",
        "specificity = tn / (tn + fp)"
      ],
      "metadata": {
        "id": "t8hRrunjTrLm"
      },
      "execution_count": null,
      "outputs": []
    },
    {
      "cell_type": "code",
      "source": [
        "print(\"Precision: \", round(precision_score(y_test, y_pred_dt) * 100, 4), \"%\")\n",
        "print(\"Recall (Sensitivity): \", round(recall_score(y_test, y_pred_dt) * 100, 4), \"%\")\n",
        "print(\"Specificity: \", round(specificity * 100, 4), \"%\")\n",
        "print(\"Balanced accuracy: \", round(balanced_accuracy_score(y_test, y_pred_dt) * 100, 4), \"%\")"
      ],
      "metadata": {
        "id": "1gsg2Bd-C_Jk",
        "colab": {
          "base_uri": "https://localhost:8080/"
        },
        "outputId": "94c81504-1d6d-4bb1-f554-99f970802b6f"
      },
      "execution_count": null,
      "outputs": [
        {
          "output_type": "stream",
          "name": "stdout",
          "text": [
            "Precision:  0.8976 %\n",
            "Recall (Sensitivity):  67.8668 %\n",
            "Specificity:  73.9741 %\n",
            "Balanced accuracy:  70.9205 %\n"
          ]
        }
      ]
    },
    {
      "cell_type": "code",
      "source": [
        "from sklearn.metrics import confusion_matrix, ConfusionMatrixDisplay\n",
        "cm = confusion_matrix(y_test, y_pred_dt)\n",
        "group_names = ['True Negative', 'False Positive', 'False Negative', 'True Positive']\n",
        "group_counts = [\"{0:0.0f}\".format(value) for value in cm.flatten()]\n",
        "group_percentages = [\"{0:.2%}\".format(value) for value in cm.flatten()/np.sum(cm)]\n",
        "labels = [f\"{v1}\\n{v2}\\n{v3}\" for v1, v2, v3 in zip(group_names, group_counts, group_percentages)]\n",
        "labels = np.asarray(labels).reshape(2,2)\n",
        "ax = plt.subplot()\n",
        "sns.heatmap(cm, annot = labels, fmt = '', cmap = 'Blues')\n",
        "ax.set_xlabel('Predicted Session End')\n",
        "ax.set_ylabel('Actual Session End')\n",
        "ax.xaxis.set_ticklabels(['No', 'Yes']); ax.yaxis.set_ticklabels(['No', 'Yes'])\n",
        "plt.show()"
      ],
      "metadata": {
        "colab": {
          "base_uri": "https://localhost:8080/",
          "height": 394
        },
        "id": "hcnCU4vEuz_b",
        "outputId": "4fe0ed34-76e0-4803-8925-ce47e127d073"
      },
      "execution_count": null,
      "outputs": [
        {
          "output_type": "display_data",
          "data": {
            "text/plain": [
              "<Figure size 1080x432 with 2 Axes>"
            ],
            "image/png": "[encoded data removed]"
          },
          "metadata": {}
        }
      ]
    },
    {
      "cell_type": "code",
      "source": [
        "y_test.value_counts()"
      ],
      "metadata": {
        "colab": {
          "base_uri": "https://localhost:8080/"
        },
        "id": "Imf101zPHBp4",
        "outputId": "854e0b7b-a940-43bf-bd1d-064f4e15f0a0"
      },
      "execution_count": null,
      "outputs": [
        {
          "output_type": "execute_result",
          "data": {
            "text/plain": [
              "0    743632\n",
              "1      2583\n",
              "Name: session_ending_bet, dtype: int64"
            ]
          },
          "metadata": {},
          "execution_count": 77
        }
      ]
    },
    {
      "cell_type": "code",
      "source": [
        "y_test.value_counts(normalize = True)"
      ],
      "metadata": {
        "colab": {
          "base_uri": "https://localhost:8080/"
        },
        "id": "wmw3mBjsP_Du",
        "outputId": "4edea096-59b7-4514-8ce6-92d84f1ad079"
      },
      "execution_count": null,
      "outputs": [
        {
          "output_type": "execute_result",
          "data": {
            "text/plain": [
              "0    0.996539\n",
              "1    0.003461\n",
              "Name: session_ending_bet, dtype: float64"
            ]
          },
          "metadata": {},
          "execution_count": 78
        }
      ]
    },
    {
      "cell_type": "markdown",
      "source": [
        "**Baseline balanced accuracy**\n",
        "- A baseline balanced accuracy acts as a lower bound to evaluate the performances of the machine learning models. The baseline model will be defined as the dummy predictor where it will **predict the majority class (session will not end or 0) all the time**. A trained model is usually expected to perform better than the baseline model. Otherwise, there is no reason to use the model.\n",
        "- Given that the baseline model predicts 0 all the time, the **specificity will be 1 (able to detect all negatives)**. This is because there will be no false positives since the model only predict negatives (0). Plugging these values into the specificity formula will result in the value 1.\n",
        "- On the other hand, the **recall will be 0**. Since the baseline model predicts a session not ending (0) all the time, it will never predict a session ending (1). Therefore, true positives equal 0. The false negatives will be the the marginal probability P(y = 1): 0.003461. Since the numeratior is 0, plugging these values into the recall formula will result in 0.\n",
        "- Baseline balanced accuracy = (Sensitivity + Specificity) / 2 = (0 + 1) / 2 = **0.5 or 50%**\n",
        "- Decision tree has **better balanced accuracy (70.9205%)** than the baseline model."
      ],
      "metadata": {
        "id": "4VELH2Qxyg1n"
      }
    },
    {
      "cell_type": "markdown",
      "source": [
        "Obtain the feature importance based on the best decision tree\n",
        "- Feature importance is calculated as the decrease in node impurity weighted by the probability of reaching that node. \n",
        "- Each node probability can be calculated by the number of samples that reach it, divided by the total number of samples. The higher the value the more important the feature."
      ],
      "metadata": {
        "id": "41kSQWUi40gI"
      }
    },
    {
      "cell_type": "code",
      "source": [
        "dt_imp = list(best_dt.feature_importances_)\n",
        "dt_colname = list(X.columns)\n",
        "dt_dict = {'Column Names': dt_colname,\n",
        "           'Feature Importance': dt_imp}\n",
        "dt_feature_imp = pd.DataFrame(dt_dict)\n",
        "dt_feature_rank = dt_feature_imp.sort_values(by = 'Feature Importance', ascending = False).reset_index(drop = True)\n",
        "dt_feature_rank['Rank'] = [i+1 for i in range(len(dt_feature_rank))]\n",
        "dt_feature_rank"
      ],
      "metadata": {
        "colab": {
          "base_uri": "https://localhost:8080/",
          "height": 206
        },
        "id": "YXlG0JCK5KlC",
        "outputId": "7dd5e90b-92bc-475a-f289-c752d06e7e03"
      },
      "execution_count": null,
      "outputs": [
        {
          "output_type": "execute_result",
          "data": {
            "text/plain": [
              "          Column Names  Feature Importance  Rank\n",
              "0         sess_len_min            0.356295     1\n",
              "1       withdrew_funds            0.349212     2\n",
              "2           lost_money            0.149123     3\n",
              "3        lowered_wager            0.114781     4\n",
              "4  loss_streak_counter            0.030589     5"
            ],
            "text/html": [
              "\n",
              "  <div id=\"df-1d94db77-e2c3-48de-8c8c-23663031c98e\">\n",
              "    <div class=\"colab-df-container\">\n",
              "      <div>\n",
              "<style scoped>\n",
              "    .dataframe tbody tr th:only-of-type {\n",
              "        vertical-align: middle;\n",
              "    }\n",
              "\n",
              "    .dataframe tbody tr th {\n",
              "        vertical-align: top;\n",
              "    }\n",
              "\n",
              "    .dataframe thead th {\n",
              "        text-align: right;\n",
              "    }\n",
              "</style>\n",
              "<table border=\"1\" class=\"dataframe\">\n",
              "  <thead>\n",
              "    <tr style=\"text-align: right;\">\n",
              "      <th></th>\n",
              "      <th>Column Names</th>\n",
              "      <th>Feature Importance</th>\n",
              "      <th>Rank</th>\n",
              "    </tr>\n",
              "  </thead>\n",
              "  <tbody>\n",
              "    <tr>\n",
              "      <th>0</th>\n",
              "      <td>sess_len_min</td>\n",
              "      <td>0.356295</td>\n",
              "      <td>1</td>\n",
              "    </tr>\n",
              "    <tr>\n",
              "      <th>1</th>\n",
              "      <td>withdrew_funds</td>\n",
              "      <td>0.349212</td>\n",
              "      <td>2</td>\n",
              "    </tr>\n",
              "    <tr>\n",
              "      <th>2</th>\n",
              "      <td>lost_money</td>\n",
              "      <td>0.149123</td>\n",
              "      <td>3</td>\n",
              "    </tr>\n",
              "    <tr>\n",
              "      <th>3</th>\n",
              "      <td>lowered_wager</td>\n",
              "      <td>0.114781</td>\n",
              "      <td>4</td>\n",
              "    </tr>\n",
              "    <tr>\n",
              "      <th>4</th>\n",
              "      <td>loss_streak_counter</td>\n",
              "      <td>0.030589</td>\n",
              "      <td>5</td>\n",
              "    </tr>\n",
              "  </tbody>\n",
              "</table>\n",
              "</div>\n",
              "      <button class=\"colab-df-convert\" onclick=\"convertToInteractive('df-1d94db77-e2c3-48de-8c8c-23663031c98e')\"\n",
              "              title=\"Convert this dataframe to an interactive table.\"\n",
              "              style=\"display:none;\">\n",
              "        \n",
              "  <svg xmlns=\"http://www.w3.org/2000/svg\" height=\"24px\"viewBox=\"0 0 24 24\"\n",
              "       width=\"24px\">\n",
              "    <path d=\"M0 0h24v24H0V0z\" fill=\"none\"/>\n",
              "    <path d=\"M18.56 5.44l.94 2.06.94-2.06 2.06-.94-2.06-.94-.94-2.06-.94 2.06-2.06.94zm-11 1L8.5 8.5l.94-2.06 2.06-.94-2.06-.94L8.5 2.5l-.94 2.06-2.06.94zm10 10l.94 2.06.94-2.06 2.06-.94-2.06-.94-.94-2.06-.94 2.06-2.06.94z\"/><path d=\"M17.41 7.96l-1.37-1.37c-.4-.4-.92-.59-1.43-.59-.52 0-1.04.2-1.43.59L10.3 9.45l-7.72 7.72c-.78.78-.78 2.05 0 2.83L4 21.41c.39.39.9.59 1.41.59.51 0 1.02-.2 1.41-.59l7.78-7.78 2.81-2.81c.8-.78.8-2.07 0-2.86zM5.41 20L4 18.59l7.72-7.72 1.47 1.35L5.41 20z\"/>\n",
              "  </svg>\n",
              "      </button>\n",
              "      \n",
              "  <style>\n",
              "    .colab-df-container {\n",
              "      display:flex;\n",
              "      flex-wrap:wrap;\n",
              "      gap: 12px;\n",
              "    }\n",
              "\n",
              "    .colab-df-convert {\n",
              "      background-color: #E8F0FE;\n",
              "      border: none;\n",
              "      border-radius: 50%;\n",
              "      cursor: pointer;\n",
              "      display: none;\n",
              "      fill: #1967D2;\n",
              "      height: 32px;\n",
              "      padding: 0 0 0 0;\n",
              "      width: 32px;\n",
              "    }\n",
              "\n",
              "    .colab-df-convert:hover {\n",
              "      background-color: #E2EBFA;\n",
              "      box-shadow: 0px 1px 2px rgba(60, 64, 67, 0.3), 0px 1px 3px 1px rgba(60, 64, 67, 0.15);\n",
              "      fill: #174EA6;\n",
              "    }\n",
              "\n",
              "    [theme=dark] .colab-df-convert {\n",
              "      background-color: #3B4455;\n",
              "      fill: #D2E3FC;\n",
              "    }\n",
              "\n",
              "    [theme=dark] .colab-df-convert:hover {\n",
              "      background-color: #434B5C;\n",
              "      box-shadow: 0px 1px 3px 1px rgba(0, 0, 0, 0.15);\n",
              "      filter: drop-shadow(0px 1px 2px rgba(0, 0, 0, 0.3));\n",
              "      fill: #FFFFFF;\n",
              "    }\n",
              "  </style>\n",
              "\n",
              "      <script>\n",
              "        const buttonEl =\n",
              "          document.querySelector('#df-1d94db77-e2c3-48de-8c8c-23663031c98e button.colab-df-convert');\n",
              "        buttonEl.style.display =\n",
              "          google.colab.kernel.accessAllowed ? 'block' : 'none';\n",
              "\n",
              "        async function convertToInteractive(key) {\n",
              "          const element = document.querySelector('#df-1d94db77-e2c3-48de-8c8c-23663031c98e');\n",
              "          const dataTable =\n",
              "            await google.colab.kernel.invokeFunction('convertToInteractive',\n",
              "                                                     [key], {});\n",
              "          if (!dataTable) return;\n",
              "\n",
              "          const docLinkHtml = 'Like what you see? Visit the ' +\n",
              "            '<a target=\"_blank\" href=https://colab.research.google.com/notebooks/data_table.ipynb>data table notebook</a>'\n",
              "            + ' to learn more about interactive tables.';\n",
              "          element.innerHTML = '';\n",
              "          dataTable['output_type'] = 'display_data';\n",
              "          await google.colab.output.renderOutput(dataTable, element);\n",
              "          const docLink = document.createElement('div');\n",
              "          docLink.innerHTML = docLinkHtml;\n",
              "          element.appendChild(docLink);\n",
              "        }\n",
              "      </script>\n",
              "    </div>\n",
              "  </div>\n",
              "  "
            ]
          },
          "metadata": {},
          "execution_count": 79
        }
      ]
    },
    {
      "cell_type": "markdown",
      "source": [
        "## **Feature selection based on recursive feature elimination of logistic regression**\n",
        "- RFE searches for a subset of features by starting with all features in the training dataset and successfully removing features until the desired number is achieved.\n",
        "- This is achieved by fitting the given machine learning algorithm (logistic regression in this case), ranking features by importance, discarding the least important features, and re-fitting the model. This process is repeated until a specified number of features remains.\n",
        "  - Model needs to have some coefficient or feature importance calculation internally"
      ],
      "metadata": {
        "id": "FwQ4wpXULwzr"
      }
    },
    {
      "cell_type": "code",
      "source": [
        "from sklearn.feature_selection import RFE\n",
        "from sklearn.linear_model import LogisticRegression"
      ],
      "metadata": {
        "id": "OX5zIvk9Lw9S"
      },
      "execution_count": null,
      "outputs": []
    },
    {
      "cell_type": "markdown",
      "source": [
        "Ranking of features based on their importance in predicting the session ending"
      ],
      "metadata": {
        "id": "CzZiP-dVdTQd"
      }
    },
    {
      "cell_type": "code",
      "source": [
        "model_rfe = LogisticRegression(random_state = 42, class_weight = 'balanced')\n",
        "rfe = RFE(estimator = model_rfe, \n",
        "          n_features_to_select = 1)\n",
        "rfe_fit = rfe.fit(X_train, y_train)\n",
        "rank = list(rfe_fit.ranking_)\n",
        "col_names = list(X.columns)\n",
        "dict_rank = {'Column_Name': col_names,\n",
        "             'Ranking':rank}\n",
        "df_rank = pd.DataFrame(dict_rank)\n",
        "df_rank.sort_values('Ranking').reset_index(drop = True)"
      ],
      "metadata": {
        "colab": {
          "base_uri": "https://localhost:8080/",
          "height": 206
        },
        "id": "mQ5NyG0JLxAv",
        "outputId": "e0c04d1b-f76b-49eb-d62c-7ef5dc4b311b"
      },
      "execution_count": null,
      "outputs": [
        {
          "output_type": "execute_result",
          "data": {
            "text/plain": [
              "           Column_Name  Ranking\n",
              "0        lowered_wager        1\n",
              "1       withdrew_funds        2\n",
              "2           lost_money        3\n",
              "3  loss_streak_counter        4\n",
              "4         sess_len_min        5"
            ],
            "text/html": [
              "\n",
              "  <div id=\"df-6e5d80ac-d20b-4160-b930-2456bef2bbd4\">\n",
              "    <div class=\"colab-df-container\">\n",
              "      <div>\n",
              "<style scoped>\n",
              "    .dataframe tbody tr th:only-of-type {\n",
              "        vertical-align: middle;\n",
              "    }\n",
              "\n",
              "    .dataframe tbody tr th {\n",
              "        vertical-align: top;\n",
              "    }\n",
              "\n",
              "    .dataframe thead th {\n",
              "        text-align: right;\n",
              "    }\n",
              "</style>\n",
              "<table border=\"1\" class=\"dataframe\">\n",
              "  <thead>\n",
              "    <tr style=\"text-align: right;\">\n",
              "      <th></th>\n",
              "      <th>Column_Name</th>\n",
              "      <th>Ranking</th>\n",
              "    </tr>\n",
              "  </thead>\n",
              "  <tbody>\n",
              "    <tr>\n",
              "      <th>0</th>\n",
              "      <td>lowered_wager</td>\n",
              "      <td>1</td>\n",
              "    </tr>\n",
              "    <tr>\n",
              "      <th>1</th>\n",
              "      <td>withdrew_funds</td>\n",
              "      <td>2</td>\n",
              "    </tr>\n",
              "    <tr>\n",
              "      <th>2</th>\n",
              "      <td>lost_money</td>\n",
              "      <td>3</td>\n",
              "    </tr>\n",
              "    <tr>\n",
              "      <th>3</th>\n",
              "      <td>loss_streak_counter</td>\n",
              "      <td>4</td>\n",
              "    </tr>\n",
              "    <tr>\n",
              "      <th>4</th>\n",
              "      <td>sess_len_min</td>\n",
              "      <td>5</td>\n",
              "    </tr>\n",
              "  </tbody>\n",
              "</table>\n",
              "</div>\n",
              "      <button class=\"colab-df-convert\" onclick=\"convertToInteractive('df-6e5d80ac-d20b-4160-b930-2456bef2bbd4')\"\n",
              "              title=\"Convert this dataframe to an interactive table.\"\n",
              "              style=\"display:none;\">\n",
              "        \n",
              "  <svg xmlns=\"http://www.w3.org/2000/svg\" height=\"24px\"viewBox=\"0 0 24 24\"\n",
              "       width=\"24px\">\n",
              "    <path d=\"M0 0h24v24H0V0z\" fill=\"none\"/>\n",
              "    <path d=\"M18.56 5.44l.94 2.06.94-2.06 2.06-.94-2.06-.94-.94-2.06-.94 2.06-2.06.94zm-11 1L8.5 8.5l.94-2.06 2.06-.94-2.06-.94L8.5 2.5l-.94 2.06-2.06.94zm10 10l.94 2.06.94-2.06 2.06-.94-2.06-.94-.94-2.06-.94 2.06-2.06.94z\"/><path d=\"M17.41 7.96l-1.37-1.37c-.4-.4-.92-.59-1.43-.59-.52 0-1.04.2-1.43.59L10.3 9.45l-7.72 7.72c-.78.78-.78 2.05 0 2.83L4 21.41c.39.39.9.59 1.41.59.51 0 1.02-.2 1.41-.59l7.78-7.78 2.81-2.81c.8-.78.8-2.07 0-2.86zM5.41 20L4 18.59l7.72-7.72 1.47 1.35L5.41 20z\"/>\n",
              "  </svg>\n",
              "      </button>\n",
              "      \n",
              "  <style>\n",
              "    .colab-df-container {\n",
              "      display:flex;\n",
              "      flex-wrap:wrap;\n",
              "      gap: 12px;\n",
              "    }\n",
              "\n",
              "    .colab-df-convert {\n",
              "      background-color: #E8F0FE;\n",
              "      border: none;\n",
              "      border-radius: 50%;\n",
              "      cursor: pointer;\n",
              "      display: none;\n",
              "      fill: #1967D2;\n",
              "      height: 32px;\n",
              "      padding: 0 0 0 0;\n",
              "      width: 32px;\n",
              "    }\n",
              "\n",
              "    .colab-df-convert:hover {\n",
              "      background-color: #E2EBFA;\n",
              "      box-shadow: 0px 1px 2px rgba(60, 64, 67, 0.3), 0px 1px 3px 1px rgba(60, 64, 67, 0.15);\n",
              "      fill: #174EA6;\n",
              "    }\n",
              "\n",
              "    [theme=dark] .colab-df-convert {\n",
              "      background-color: #3B4455;\n",
              "      fill: #D2E3FC;\n",
              "    }\n",
              "\n",
              "    [theme=dark] .colab-df-convert:hover {\n",
              "      background-color: #434B5C;\n",
              "      box-shadow: 0px 1px 3px 1px rgba(0, 0, 0, 0.15);\n",
              "      filter: drop-shadow(0px 1px 2px rgba(0, 0, 0, 0.3));\n",
              "      fill: #FFFFFF;\n",
              "    }\n",
              "  </style>\n",
              "\n",
              "      <script>\n",
              "        const buttonEl =\n",
              "          document.querySelector('#df-6e5d80ac-d20b-4160-b930-2456bef2bbd4 button.colab-df-convert');\n",
              "        buttonEl.style.display =\n",
              "          google.colab.kernel.accessAllowed ? 'block' : 'none';\n",
              "\n",
              "        async function convertToInteractive(key) {\n",
              "          const element = document.querySelector('#df-6e5d80ac-d20b-4160-b930-2456bef2bbd4');\n",
              "          const dataTable =\n",
              "            await google.colab.kernel.invokeFunction('convertToInteractive',\n",
              "                                                     [key], {});\n",
              "          if (!dataTable) return;\n",
              "\n",
              "          const docLinkHtml = 'Like what you see? Visit the ' +\n",
              "            '<a target=\"_blank\" href=https://colab.research.google.com/notebooks/data_table.ipynb>data table notebook</a>'\n",
              "            + ' to learn more about interactive tables.';\n",
              "          element.innerHTML = '';\n",
              "          dataTable['output_type'] = 'display_data';\n",
              "          await google.colab.output.renderOutput(dataTable, element);\n",
              "          const docLink = document.createElement('div');\n",
              "          docLink.innerHTML = docLinkHtml;\n",
              "          element.appendChild(docLink);\n",
              "        }\n",
              "      </script>\n",
              "    </div>\n",
              "  </div>\n",
              "  "
            ]
          },
          "metadata": {},
          "execution_count": 81
        }
      ]
    },
    {
      "cell_type": "code",
      "source": [
        "y_pred_rfe = rfe_fit.predict(X_test)"
      ],
      "metadata": {
        "id": "0FCdd8HOLxEU"
      },
      "execution_count": null,
      "outputs": []
    },
    {
      "cell_type": "code",
      "source": [
        "tn, fp, fn, tp = confusion_matrix(y_test, y_pred_rfe).ravel()\n",
        "specificity = tn / (tn + fp)"
      ],
      "metadata": {
        "id": "NYUiR76PLxHt"
      },
      "execution_count": null,
      "outputs": []
    },
    {
      "cell_type": "code",
      "source": [
        "print(\"Precision: \", round(precision_score(y_test, y_pred_rfe) * 100, 4), \"%\")\n",
        "print(\"Recall (Sensitivity): \", round(recall_score(y_test, y_pred_rfe) * 100, 4), \"%\")\n",
        "print(\"Specificity: \", round(specificity * 100, 4), \"%\")\n",
        "print(\"Balanced accuracy: \", round(balanced_accuracy_score(y_test, y_pred_rfe) * 100, 4), \"%\")"
      ],
      "metadata": {
        "colab": {
          "base_uri": "https://localhost:8080/"
        },
        "id": "pBB7Hbu0LxLI",
        "outputId": "fb97eaa6-402a-432d-86bd-eda3a476c682"
      },
      "execution_count": null,
      "outputs": [
        {
          "output_type": "stream",
          "name": "stdout",
          "text": [
            "Precision:  6.9084 %\n",
            "Recall (Sensitivity):  8.5559 %\n",
            "Specificity:  99.5995 %\n",
            "Balanced accuracy:  54.0777 %\n"
          ]
        }
      ]
    },
    {
      "cell_type": "code",
      "source": [
        "cm = confusion_matrix(y_test, y_pred_rfe)\n",
        "group_names = ['True Negative', 'False Positive', 'False Negative', 'True Positive']\n",
        "group_counts = [\"{0:0.0f}\".format(value) for value in cm.flatten()]\n",
        "group_percentages = [\"{0:.2%}\".format(value) for value in cm.flatten()/np.sum(cm)]\n",
        "labels = [f\"{v1}\\n{v2}\\n{v3}\" for v1, v2, v3 in zip(group_names, group_counts, group_percentages)]\n",
        "labels = np.asarray(labels).reshape(2,2)\n",
        "ax = plt.subplot()\n",
        "sns.heatmap(cm, annot = labels, fmt = '', cmap = 'Blues')\n",
        "ax.set_xlabel('Predicted Session End')\n",
        "ax.set_ylabel('Actual Session End')\n",
        "ax.xaxis.set_ticklabels(['No', 'Yes']); ax.yaxis.set_ticklabels(['No', 'Yes'])\n",
        "plt.show()"
      ],
      "metadata": {
        "colab": {
          "base_uri": "https://localhost:8080/",
          "height": 394
        },
        "id": "AswUOgoFgL_B",
        "outputId": "548cad53-16d4-4537-e597-c976dc68d38f"
      },
      "execution_count": null,
      "outputs": [
        {
          "output_type": "display_data",
          "data": {
            "text/plain": [
              "<Figure size 1080x432 with 2 Axes>"
            ],
            "image/png": "[encoded data removed]"
          },
          "metadata": {}
        }
      ]
    }
  ]
}